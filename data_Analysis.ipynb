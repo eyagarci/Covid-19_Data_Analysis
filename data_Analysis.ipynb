{
 "cells": [
  {
   "cell_type": "code",
   "execution_count": 1,
   "metadata": {
    "colab": {},
    "colab_type": "code",
    "id": "q1jLLKAOpT3K"
   },
   "outputs": [],
   "source": [
    "# Import packages \n",
    "import pandas as pd\n",
    "import numpy as np\n",
    "import matplotlib.pyplot as plt\n",
    "import plotly.express as px\n",
    "import plotly.graph_objects as go\n",
    "from ipywidgets import interact,widgets\n",
    "import folium"
   ]
  },
  {
   "cell_type": "code",
   "execution_count": 8,
   "metadata": {
    "colab": {},
    "colab_type": "code",
    "id": "Rj7w51bmpu8q"
   },
   "outputs": [],
   "source": [
    "# Import data\n",
    "death_df = pd.read_csv('https://raw.githubusercontent.com/CSSEGISandData/COVID-19/master/csse_covid_19_data/csse_covid_19_time_series/time_series_covid19_deaths_global.csv')\n",
    "confirmed_df = pd.read_csv('https://raw.githubusercontent.com/CSSEGISandData/COVID-19/master/csse_covid_19_data/csse_covid_19_time_series/time_series_covid19_confirmed_global.csv')\n",
    "recovered_df = pd.read_csv('https://raw.githubusercontent.com/CSSEGISandData/COVID-19/master/csse_covid_19_data/csse_covid_19_time_series/time_series_covid19_recovered_global.csv')\n",
    "cases_df = pd.read_csv('https://raw.githubusercontent.com/CSSEGISandData/COVID-19/web-data/data/cases_country.csv')"
   ]
  },
  {
   "cell_type": "code",
   "execution_count": 9,
   "metadata": {
    "colab": {
     "base_uri": "https://localhost:8080/",
     "height": 104
    },
    "colab_type": "code",
    "executionInfo": {
     "elapsed": 6476,
     "status": "ok",
     "timestamp": 1587723570804,
     "user": {
      "displayName": "FORMASYS",
      "photoUrl": "https://lh3.googleusercontent.com/a-/AOh14Gh_qnc9hKHHHxqD_iZPXWelCaNz7MIzGtlLNB9MOg=s64",
      "userId": "12379751963299498949"
     },
     "user_tz": 0
    },
    "id": "0NTtpO49rVEg",
    "outputId": "88519b9c-455e-4a23-84a9-2985ce1098ad"
   },
   "outputs": [
    {
     "name": "stdout",
     "output_type": "stream",
     "text": [
      "(273, 383)\n",
      "(273, 383)\n",
      "(258, 383)\n",
      "(192, 14)\n"
     ]
    }
   ],
   "source": [
    "print(death_df.shape)\n",
    "print(confirmed_df.shape)\n",
    "print(recovered_df.shape)\n",
    "print(cases_df.shape)"
   ]
  },
  {
   "cell_type": "code",
   "execution_count": 10,
   "metadata": {
    "colab": {
     "base_uri": "https://localhost:8080/",
     "height": 540
    },
    "colab_type": "code",
    "executionInfo": {
     "elapsed": 2104,
     "status": "ok",
     "timestamp": 1587723609186,
     "user": {
      "displayName": "FORMASYS",
      "photoUrl": "https://lh3.googleusercontent.com/a-/AOh14Gh_qnc9hKHHHxqD_iZPXWelCaNz7MIzGtlLNB9MOg=s64",
      "userId": "12379751963299498949"
     },
     "user_tz": 0
    },
    "id": "wbwKZMQzrlri",
    "outputId": "dadf7552-a40c-4378-e754-88e1814bb15d"
   },
   "outputs": [
    {
     "data": {
      "text/html": [
       "<div>\n",
       "<style scoped>\n",
       "    .dataframe tbody tr th:only-of-type {\n",
       "        vertical-align: middle;\n",
       "    }\n",
       "\n",
       "    .dataframe tbody tr th {\n",
       "        vertical-align: top;\n",
       "    }\n",
       "\n",
       "    .dataframe thead th {\n",
       "        text-align: right;\n",
       "    }\n",
       "</style>\n",
       "<table border=\"1\" class=\"dataframe\">\n",
       "  <thead>\n",
       "    <tr style=\"text-align: right;\">\n",
       "      <th></th>\n",
       "      <th>Country_Region</th>\n",
       "      <th>Last_Update</th>\n",
       "      <th>Lat</th>\n",
       "      <th>Long_</th>\n",
       "      <th>Confirmed</th>\n",
       "      <th>Deaths</th>\n",
       "      <th>Recovered</th>\n",
       "      <th>Active</th>\n",
       "      <th>Incident_Rate</th>\n",
       "      <th>People_Tested</th>\n",
       "      <th>People_Hospitalized</th>\n",
       "      <th>Mortality_Rate</th>\n",
       "      <th>UID</th>\n",
       "      <th>ISO3</th>\n",
       "    </tr>\n",
       "  </thead>\n",
       "  <tbody>\n",
       "    <tr>\n",
       "      <th>0</th>\n",
       "      <td>Afghanistan</td>\n",
       "      <td>2021-02-04 09:23:33</td>\n",
       "      <td>33.93911</td>\n",
       "      <td>67.709953</td>\n",
       "      <td>55174.0</td>\n",
       "      <td>2406.0</td>\n",
       "      <td>47995.0</td>\n",
       "      <td>4773.0</td>\n",
       "      <td>141.732215</td>\n",
       "      <td>NaN</td>\n",
       "      <td>NaN</td>\n",
       "      <td>4.360750</td>\n",
       "      <td>4</td>\n",
       "      <td>AFG</td>\n",
       "    </tr>\n",
       "    <tr>\n",
       "      <th>1</th>\n",
       "      <td>Albania</td>\n",
       "      <td>2021-02-04 09:23:33</td>\n",
       "      <td>41.15330</td>\n",
       "      <td>20.168300</td>\n",
       "      <td>80941.0</td>\n",
       "      <td>1404.0</td>\n",
       "      <td>48958.0</td>\n",
       "      <td>30579.0</td>\n",
       "      <td>2812.599903</td>\n",
       "      <td>NaN</td>\n",
       "      <td>NaN</td>\n",
       "      <td>1.734597</td>\n",
       "      <td>8</td>\n",
       "      <td>ALB</td>\n",
       "    </tr>\n",
       "    <tr>\n",
       "      <th>2</th>\n",
       "      <td>Algeria</td>\n",
       "      <td>2021-02-04 09:23:33</td>\n",
       "      <td>28.03390</td>\n",
       "      <td>1.659600</td>\n",
       "      <td>108116.0</td>\n",
       "      <td>2900.0</td>\n",
       "      <td>73940.0</td>\n",
       "      <td>31276.0</td>\n",
       "      <td>246.552859</td>\n",
       "      <td>NaN</td>\n",
       "      <td>NaN</td>\n",
       "      <td>2.682304</td>\n",
       "      <td>12</td>\n",
       "      <td>DZA</td>\n",
       "    </tr>\n",
       "    <tr>\n",
       "      <th>3</th>\n",
       "      <td>Andorra</td>\n",
       "      <td>2021-02-04 09:23:33</td>\n",
       "      <td>42.50630</td>\n",
       "      <td>1.521800</td>\n",
       "      <td>10070.0</td>\n",
       "      <td>103.0</td>\n",
       "      <td>9313.0</td>\n",
       "      <td>654.0</td>\n",
       "      <td>13033.068013</td>\n",
       "      <td>NaN</td>\n",
       "      <td>NaN</td>\n",
       "      <td>1.022840</td>\n",
       "      <td>20</td>\n",
       "      <td>AND</td>\n",
       "    </tr>\n",
       "    <tr>\n",
       "      <th>4</th>\n",
       "      <td>Angola</td>\n",
       "      <td>2021-02-04 09:23:33</td>\n",
       "      <td>-11.20270</td>\n",
       "      <td>17.873900</td>\n",
       "      <td>19937.0</td>\n",
       "      <td>470.0</td>\n",
       "      <td>18335.0</td>\n",
       "      <td>1132.0</td>\n",
       "      <td>60.660979</td>\n",
       "      <td>NaN</td>\n",
       "      <td>NaN</td>\n",
       "      <td>2.357426</td>\n",
       "      <td>24</td>\n",
       "      <td>AGO</td>\n",
       "    </tr>\n",
       "    <tr>\n",
       "      <th>5</th>\n",
       "      <td>Antigua and Barbuda</td>\n",
       "      <td>2021-02-04 09:23:33</td>\n",
       "      <td>17.06080</td>\n",
       "      <td>-61.796400</td>\n",
       "      <td>249.0</td>\n",
       "      <td>7.0</td>\n",
       "      <td>179.0</td>\n",
       "      <td>63.0</td>\n",
       "      <td>254.268442</td>\n",
       "      <td>NaN</td>\n",
       "      <td>NaN</td>\n",
       "      <td>2.811245</td>\n",
       "      <td>28</td>\n",
       "      <td>ATG</td>\n",
       "    </tr>\n",
       "    <tr>\n",
       "      <th>6</th>\n",
       "      <td>Argentina</td>\n",
       "      <td>2021-02-04 09:23:33</td>\n",
       "      <td>-38.41610</td>\n",
       "      <td>-63.616700</td>\n",
       "      <td>1952744.0</td>\n",
       "      <td>48539.0</td>\n",
       "      <td>1745208.0</td>\n",
       "      <td>158997.0</td>\n",
       "      <td>4320.633762</td>\n",
       "      <td>NaN</td>\n",
       "      <td>NaN</td>\n",
       "      <td>2.485682</td>\n",
       "      <td>32</td>\n",
       "      <td>ARG</td>\n",
       "    </tr>\n",
       "    <tr>\n",
       "      <th>7</th>\n",
       "      <td>Armenia</td>\n",
       "      <td>2021-02-04 09:23:33</td>\n",
       "      <td>40.06910</td>\n",
       "      <td>45.038200</td>\n",
       "      <td>167568.0</td>\n",
       "      <td>3107.0</td>\n",
       "      <td>159045.0</td>\n",
       "      <td>5416.0</td>\n",
       "      <td>5654.902718</td>\n",
       "      <td>NaN</td>\n",
       "      <td>NaN</td>\n",
       "      <td>1.854173</td>\n",
       "      <td>51</td>\n",
       "      <td>ARM</td>\n",
       "    </tr>\n",
       "    <tr>\n",
       "      <th>8</th>\n",
       "      <td>Australia</td>\n",
       "      <td>2021-02-04 09:23:33</td>\n",
       "      <td>-25.00000</td>\n",
       "      <td>133.000000</td>\n",
       "      <td>28838.0</td>\n",
       "      <td>909.0</td>\n",
       "      <td>26079.0</td>\n",
       "      <td>1850.0</td>\n",
       "      <td>113.269206</td>\n",
       "      <td>NaN</td>\n",
       "      <td>NaN</td>\n",
       "      <td>3.152091</td>\n",
       "      <td>36</td>\n",
       "      <td>AUS</td>\n",
       "    </tr>\n",
       "    <tr>\n",
       "      <th>9</th>\n",
       "      <td>Austria</td>\n",
       "      <td>2021-02-04 09:23:33</td>\n",
       "      <td>47.51620</td>\n",
       "      <td>14.550100</td>\n",
       "      <td>418283.0</td>\n",
       "      <td>7902.0</td>\n",
       "      <td>396709.0</td>\n",
       "      <td>13672.0</td>\n",
       "      <td>4644.286285</td>\n",
       "      <td>NaN</td>\n",
       "      <td>NaN</td>\n",
       "      <td>1.889152</td>\n",
       "      <td>40</td>\n",
       "      <td>AUT</td>\n",
       "    </tr>\n",
       "  </tbody>\n",
       "</table>\n",
       "</div>"
      ],
      "text/plain": [
       "        Country_Region          Last_Update       Lat       Long_  Confirmed  \\\n",
       "0          Afghanistan  2021-02-04 09:23:33  33.93911   67.709953    55174.0   \n",
       "1              Albania  2021-02-04 09:23:33  41.15330   20.168300    80941.0   \n",
       "2              Algeria  2021-02-04 09:23:33  28.03390    1.659600   108116.0   \n",
       "3              Andorra  2021-02-04 09:23:33  42.50630    1.521800    10070.0   \n",
       "4               Angola  2021-02-04 09:23:33 -11.20270   17.873900    19937.0   \n",
       "5  Antigua and Barbuda  2021-02-04 09:23:33  17.06080  -61.796400      249.0   \n",
       "6            Argentina  2021-02-04 09:23:33 -38.41610  -63.616700  1952744.0   \n",
       "7              Armenia  2021-02-04 09:23:33  40.06910   45.038200   167568.0   \n",
       "8            Australia  2021-02-04 09:23:33 -25.00000  133.000000    28838.0   \n",
       "9              Austria  2021-02-04 09:23:33  47.51620   14.550100   418283.0   \n",
       "\n",
       "    Deaths  Recovered    Active  Incident_Rate  People_Tested  \\\n",
       "0   2406.0    47995.0    4773.0     141.732215            NaN   \n",
       "1   1404.0    48958.0   30579.0    2812.599903            NaN   \n",
       "2   2900.0    73940.0   31276.0     246.552859            NaN   \n",
       "3    103.0     9313.0     654.0   13033.068013            NaN   \n",
       "4    470.0    18335.0    1132.0      60.660979            NaN   \n",
       "5      7.0      179.0      63.0     254.268442            NaN   \n",
       "6  48539.0  1745208.0  158997.0    4320.633762            NaN   \n",
       "7   3107.0   159045.0    5416.0    5654.902718            NaN   \n",
       "8    909.0    26079.0    1850.0     113.269206            NaN   \n",
       "9   7902.0   396709.0   13672.0    4644.286285            NaN   \n",
       "\n",
       "   People_Hospitalized  Mortality_Rate  UID ISO3  \n",
       "0                  NaN        4.360750    4  AFG  \n",
       "1                  NaN        1.734597    8  ALB  \n",
       "2                  NaN        2.682304   12  DZA  \n",
       "3                  NaN        1.022840   20  AND  \n",
       "4                  NaN        2.357426   24  AGO  \n",
       "5                  NaN        2.811245   28  ATG  \n",
       "6                  NaN        2.485682   32  ARG  \n",
       "7                  NaN        1.854173   51  ARM  \n",
       "8                  NaN        3.152091   36  AUS  \n",
       "9                  NaN        1.889152   40  AUT  "
      ]
     },
     "execution_count": 10,
     "metadata": {},
     "output_type": "execute_result"
    }
   ],
   "source": [
    "cases_df.head(10)"
   ]
  },
  {
   "cell_type": "code",
   "execution_count": 11,
   "metadata": {
    "colab": {
     "base_uri": "https://localhost:8080/",
     "height": 210
    },
    "colab_type": "code",
    "executionInfo": {
     "elapsed": 3522,
     "status": "ok",
     "timestamp": 1587724230054,
     "user": {
      "displayName": "FORMASYS",
      "photoUrl": "https://lh3.googleusercontent.com/a-/AOh14Gh_qnc9hKHHHxqD_iZPXWelCaNz7MIzGtlLNB9MOg=s64",
      "userId": "12379751963299498949"
     },
     "user_tz": 0
    },
    "id": "h-v-3Ttxtkpw",
    "outputId": "70f7e9ff-efbc-4d69-ef6e-d6aaa0195f54"
   },
   "outputs": [
    {
     "data": {
      "text/html": [
       "<div>\n",
       "<style scoped>\n",
       "    .dataframe tbody tr th:only-of-type {\n",
       "        vertical-align: middle;\n",
       "    }\n",
       "\n",
       "    .dataframe tbody tr th {\n",
       "        vertical-align: top;\n",
       "    }\n",
       "\n",
       "    .dataframe thead th {\n",
       "        text-align: right;\n",
       "    }\n",
       "</style>\n",
       "<table border=\"1\" class=\"dataframe\">\n",
       "  <thead>\n",
       "    <tr style=\"text-align: right;\">\n",
       "      <th></th>\n",
       "      <th>Country_Region</th>\n",
       "      <th>Last_Update</th>\n",
       "      <th>Lat</th>\n",
       "      <th>Long_</th>\n",
       "      <th>Confirmed</th>\n",
       "      <th>Deaths</th>\n",
       "      <th>Recovered</th>\n",
       "      <th>Active</th>\n",
       "      <th>Incident_Rate</th>\n",
       "      <th>People_Tested</th>\n",
       "      <th>People_Hospitalized</th>\n",
       "      <th>Mortality_Rate</th>\n",
       "      <th>UID</th>\n",
       "      <th>ISO3</th>\n",
       "    </tr>\n",
       "  </thead>\n",
       "  <tbody>\n",
       "    <tr>\n",
       "      <th>36</th>\n",
       "      <td>China</td>\n",
       "      <td>2021-02-04 09:23:33</td>\n",
       "      <td>30.592800</td>\n",
       "      <td>114.305500</td>\n",
       "      <td>100226.0</td>\n",
       "      <td>4821.0</td>\n",
       "      <td>93280.0</td>\n",
       "      <td>2125.0</td>\n",
       "      <td>7.135167</td>\n",
       "      <td>NaN</td>\n",
       "      <td>NaN</td>\n",
       "      <td>4.810129</td>\n",
       "      <td>156</td>\n",
       "      <td>CHN</td>\n",
       "    </tr>\n",
       "    <tr>\n",
       "      <th>66</th>\n",
       "      <td>Germany</td>\n",
       "      <td>2021-02-04 09:23:33</td>\n",
       "      <td>51.165691</td>\n",
       "      <td>10.451526</td>\n",
       "      <td>2254419.0</td>\n",
       "      <td>59776.0</td>\n",
       "      <td>2003831.0</td>\n",
       "      <td>190812.0</td>\n",
       "      <td>2690.752984</td>\n",
       "      <td>NaN</td>\n",
       "      <td>NaN</td>\n",
       "      <td>2.651504</td>\n",
       "      <td>276</td>\n",
       "      <td>DEU</td>\n",
       "    </tr>\n",
       "    <tr>\n",
       "      <th>120</th>\n",
       "      <td>Morocco</td>\n",
       "      <td>2021-02-04 09:23:33</td>\n",
       "      <td>31.791700</td>\n",
       "      <td>-7.092600</td>\n",
       "      <td>473047.0</td>\n",
       "      <td>8323.0</td>\n",
       "      <td>451780.0</td>\n",
       "      <td>12944.0</td>\n",
       "      <td>1281.603491</td>\n",
       "      <td>NaN</td>\n",
       "      <td>NaN</td>\n",
       "      <td>1.759445</td>\n",
       "      <td>504</td>\n",
       "      <td>MAR</td>\n",
       "    </tr>\n",
       "  </tbody>\n",
       "</table>\n",
       "</div>"
      ],
      "text/plain": [
       "    Country_Region          Last_Update        Lat       Long_  Confirmed  \\\n",
       "36           China  2021-02-04 09:23:33  30.592800  114.305500   100226.0   \n",
       "66         Germany  2021-02-04 09:23:33  51.165691   10.451526  2254419.0   \n",
       "120        Morocco  2021-02-04 09:23:33  31.791700   -7.092600   473047.0   \n",
       "\n",
       "      Deaths  Recovered    Active  Incident_Rate  People_Tested  \\\n",
       "36    4821.0    93280.0    2125.0       7.135167            NaN   \n",
       "66   59776.0  2003831.0  190812.0    2690.752984            NaN   \n",
       "120   8323.0   451780.0   12944.0    1281.603491            NaN   \n",
       "\n",
       "     People_Hospitalized  Mortality_Rate  UID ISO3  \n",
       "36                   NaN        4.810129  156  CHN  \n",
       "66                   NaN        2.651504  276  DEU  \n",
       "120                  NaN        1.759445  504  MAR  "
      ]
     },
     "execution_count": 11,
     "metadata": {},
     "output_type": "execute_result"
    }
   ],
   "source": [
    "country=['China','Germany','Morocco']\n",
    "cases_df[cases_df['Country_Region'].isin(country)]"
   ]
  },
  {
   "cell_type": "code",
   "execution_count": 13,
   "metadata": {
    "colab": {
     "base_uri": "https://localhost:8080/",
     "height": 87
    },
    "colab_type": "code",
    "executionInfo": {
     "elapsed": 704,
     "status": "ok",
     "timestamp": 1586957119570,
     "user": {
      "displayName": "FORMASYS",
      "photoUrl": "https://lh3.googleusercontent.com/a-/AOh14Gh_qnc9hKHHHxqD_iZPXWelCaNz7MIzGtlLNB9MOg=s64",
      "userId": "12379751963299498949"
     },
     "user_tz": -60
    },
    "id": "JP-pW9D-uVGh",
    "outputId": "3c1d325e-1e19-4855-9383-005a79a44169"
   },
   "outputs": [
    {
     "data": {
      "text/plain": [
       "Index(['Country_Region', 'Last_Update', 'Lat', 'Long_', 'Confirmed', 'Deaths',\n",
       "       'Recovered', 'Active', 'Incident_Rate', 'People_Tested',\n",
       "       'People_Hospitalized', 'Mortality_Rate', 'UID', 'ISO3'],\n",
       "      dtype='object')"
      ]
     },
     "execution_count": 13,
     "metadata": {},
     "output_type": "execute_result"
    }
   ],
   "source": [
    "cases_df.columns"
   ]
  },
  {
   "cell_type": "code",
   "execution_count": 15,
   "metadata": {
    "colab": {
     "base_uri": "https://localhost:8080/",
     "height": 81
    },
    "colab_type": "code",
    "executionInfo": {
     "elapsed": 824,
     "status": "ok",
     "timestamp": 1586957122531,
     "user": {
      "displayName": "FORMASYS",
      "photoUrl": "https://lh3.googleusercontent.com/a-/AOh14Gh_qnc9hKHHHxqD_iZPXWelCaNz7MIzGtlLNB9MOg=s64",
      "userId": "12379751963299498949"
     },
     "user_tz": -60
    },
    "id": "cbtH3o1vt14l",
    "outputId": "77a7096f-ab73-42c2-bd58-319c639a328c"
   },
   "outputs": [
    {
     "data": {
      "text/html": [
       "<div>\n",
       "<style scoped>\n",
       "    .dataframe tbody tr th:only-of-type {\n",
       "        vertical-align: middle;\n",
       "    }\n",
       "\n",
       "    .dataframe tbody tr th {\n",
       "        vertical-align: top;\n",
       "    }\n",
       "\n",
       "    .dataframe thead th {\n",
       "        text-align: right;\n",
       "    }\n",
       "</style>\n",
       "<table border=\"1\" class=\"dataframe\">\n",
       "  <thead>\n",
       "    <tr style=\"text-align: right;\">\n",
       "      <th></th>\n",
       "      <th>Confirmed</th>\n",
       "      <th>Deaths</th>\n",
       "      <th>Recovered</th>\n",
       "    </tr>\n",
       "  </thead>\n",
       "  <tbody>\n",
       "    <tr>\n",
       "      <th>0</th>\n",
       "      <td>104438604.0</td>\n",
       "      <td>2269947.0</td>\n",
       "      <td>58060212.0</td>\n",
       "    </tr>\n",
       "  </tbody>\n",
       "</table>\n",
       "</div>"
      ],
      "text/plain": [
       "     Confirmed     Deaths   Recovered\n",
       "0  104438604.0  2269947.0  58060212.0"
      ]
     },
     "execution_count": 15,
     "metadata": {},
     "output_type": "execute_result"
    }
   ],
   "source": [
    "# Display statistics in the world\n",
    "global_data=cases_df.copy().drop(['Country_Region','Last_Update', 'Lat', 'Long_','Active', 'Incident_Rate', 'People_Tested',\n",
    "       'People_Hospitalized', 'Mortality_Rate', 'UID', 'ISO3'],axis=1)\n",
    "global_synthese=pd.DataFrame(global_data.sum()).transpose()\n",
    "global_synthese"
   ]
  },
  {
   "cell_type": "code",
   "execution_count": 17,
   "metadata": {
    "colab": {
     "base_uri": "https://localhost:8080/",
     "height": 460,
     "referenced_widgets": [
      "bfcc849d615049b2b07c216621e37d04",
      "c6cfc4990301440abf3ad5da41265bf2",
      "c987c7558e5c4a70837381de39a3dc99",
      "a37a48900f7447f7ba0ae20ec4d8657f",
      "2d0f9b2e7ea842b7bad18f1809e5a1c4",
      "90965014d19c4a68927b6de6b565fb22",
      "8026d42aaebd4796b42ba68567c40ffb",
      "c17cb374aadd4eae88159727337d94ea",
      "c8eaab8ee02749a29a2b26eb151e29d9",
      "56fccb2f2f8a4303bc72af5100a295fa"
     ]
    },
    "colab_type": "code",
    "executionInfo": {
     "elapsed": 743,
     "status": "ok",
     "timestamp": 1586957948225,
     "user": {
      "displayName": "FORMASYS",
      "photoUrl": "https://lh3.googleusercontent.com/a-/AOh14Gh_qnc9hKHHHxqD_iZPXWelCaNz7MIzGtlLNB9MOg=s64",
      "userId": "12379751963299498949"
     },
     "user_tz": -60
    },
    "id": "QfMQjQI6vWiV",
    "outputId": "00608bf1-6e16-4887-f668-d476fc7cb4f0"
   },
   "outputs": [
    {
     "data": {
      "application/vnd.jupyter.widget-view+json": {
       "model_id": "6d0d9517e8e94e44aa04d54bff76bfd2",
       "version_major": 2,
       "version_minor": 0
      },
      "text/plain": [
       "interactive(children=(Text(value='10', description='n'), Output()), _dom_classes=('widget-interact',))"
      ]
     },
     "metadata": {},
     "output_type": "display_data"
    },
    {
     "data": {
      "application/vnd.jupyter.widget-view+json": {
       "model_id": "3dcd6251d5c74345b8c1b030c697a208",
       "version_major": 2,
       "version_minor": 0
      },
      "text/plain": [
       "VBox(children=(FigureWidget({\n",
       "    'data': [], 'layout': {'template': '...'}\n",
       "}),), layout=Layout(border='solid …"
      ]
     },
     "metadata": {},
     "output_type": "display_data"
    }
   ],
   "source": [
    "# View the most affected countries\n",
    "fig=go.FigureWidget(layout=go.Layout())\n",
    "def highlight_col(x):\n",
    "  r='background-color:red'\n",
    "  y='background-color:green'\n",
    "  g='background-color:blue'\n",
    "  df1=pd.DataFrame('',index=x.index,columns=x.columns)\n",
    "  df1.iloc[:,4]=y\n",
    "  df1.iloc[:,5]=r\n",
    "  df1.iloc[:,6]=g\n",
    "\n",
    "  return df1\n",
    "\n",
    "def show_cases(n):\n",
    "  n=int(n)\n",
    "  return cases_df.sort_values('Confirmed',ascending=False).head(n).style.apply(highlight_col,axis=None)\n",
    "\n",
    "interact(show_cases,n='10')\n",
    "\n",
    "ipywLayout=widgets.Layout(border='solid 2px green')\n",
    "ipywLayout.display='none'\n",
    "widgets.VBox([fig],layout=ipywLayout)\n"
   ]
  },
  {
   "cell_type": "code",
   "execution_count": 18,
   "metadata": {
    "colab": {
     "base_uri": "https://localhost:8080/",
     "height": 87
    },
    "colab_type": "code",
    "executionInfo": {
     "elapsed": 789,
     "status": "ok",
     "timestamp": 1586958215976,
     "user": {
      "displayName": "FORMASYS",
      "photoUrl": "https://lh3.googleusercontent.com/a-/AOh14Gh_qnc9hKHHHxqD_iZPXWelCaNz7MIzGtlLNB9MOg=s64",
      "userId": "12379751963299498949"
     },
     "user_tz": -60
    },
    "id": "2wtmDopmEeTs",
    "outputId": "31948ef0-3302-4b7a-980d-49f774b694c0"
   },
   "outputs": [
    {
     "data": {
      "text/plain": [
       "Index(['Country_Region', 'Last_Update', 'Lat', 'Long_', 'Confirmed', 'Deaths',\n",
       "       'Recovered', 'Active', 'Incident_Rate', 'People_Tested',\n",
       "       'People_Hospitalized', 'Mortality_Rate', 'UID', 'ISO3'],\n",
       "      dtype='object')"
      ]
     },
     "execution_count": 18,
     "metadata": {},
     "output_type": "execute_result"
    }
   ],
   "source": [
    "cases_class_df= cases_df.sort_values('Confirmed',ascending=False)\n",
    "cases_class_df.columns"
   ]
  },
  {
   "cell_type": "code",
   "execution_count": 30,
   "metadata": {
    "colab": {
     "base_uri": "https://localhost:8080/",
     "height": 518
    },
    "colab_type": "code",
    "executionInfo": {
     "elapsed": 784,
     "status": "ok",
     "timestamp": 1586958377295,
     "user": {
      "displayName": "FORMASYS",
      "photoUrl": "https://lh3.googleusercontent.com/a-/AOh14Gh_qnc9hKHHHxqD_iZPXWelCaNz7MIzGtlLNB9MOg=s64",
      "userId": "12379751963299498949"
     },
     "user_tz": -60
    },
    "id": "JCZM_S3_FECb",
    "outputId": "5f73599a-2f7b-4be1-87c3-a132cfae15c6"
   },
   "outputs": [
    {
     "data": {
      "application/vnd.plotly.v1+json": {
       "config": {
        "plotlyServerURL": "https://plot.ly"
       },
       "data": [
        {
         "alignmentgroup": "True",
         "hovertemplate": "Country_Region=%{x}<br>Confirmed=%{y}<extra></extra>",
         "legendgroup": "",
         "marker": {
          "color": "pink"
         },
         "name": "",
         "offsetgroup": "",
         "orientation": "v",
         "showlegend": false,
         "textposition": "auto",
         "type": "bar",
         "x": [
          "US",
          "India",
          "Brazil",
          "United Kingdom",
          "Russia",
          "France",
          "Spain",
          "Italy",
          "Turkey",
          "Germany"
         ],
         "xaxis": "x",
         "y": [
          26557031,
          10790183,
          9339420,
          3882972,
          3874830,
          3310051,
          2883465,
          2583790,
          2501079,
          2254419
         ],
         "yaxis": "y"
        }
       ],
       "layout": {
        "barmode": "relative",
        "height": 500,
        "legend": {
         "tracegroupgap": 0
        },
        "template": {
         "data": {
          "bar": [
           {
            "error_x": {
             "color": "#2a3f5f"
            },
            "error_y": {
             "color": "#2a3f5f"
            },
            "marker": {
             "line": {
              "color": "#E5ECF6",
              "width": 0.5
             }
            },
            "type": "bar"
           }
          ],
          "barpolar": [
           {
            "marker": {
             "line": {
              "color": "#E5ECF6",
              "width": 0.5
             }
            },
            "type": "barpolar"
           }
          ],
          "carpet": [
           {
            "aaxis": {
             "endlinecolor": "#2a3f5f",
             "gridcolor": "white",
             "linecolor": "white",
             "minorgridcolor": "white",
             "startlinecolor": "#2a3f5f"
            },
            "baxis": {
             "endlinecolor": "#2a3f5f",
             "gridcolor": "white",
             "linecolor": "white",
             "minorgridcolor": "white",
             "startlinecolor": "#2a3f5f"
            },
            "type": "carpet"
           }
          ],
          "choropleth": [
           {
            "colorbar": {
             "outlinewidth": 0,
             "ticks": ""
            },
            "type": "choropleth"
           }
          ],
          "contour": [
           {
            "colorbar": {
             "outlinewidth": 0,
             "ticks": ""
            },
            "colorscale": [
             [
              0,
              "#0d0887"
             ],
             [
              0.1111111111111111,
              "#46039f"
             ],
             [
              0.2222222222222222,
              "#7201a8"
             ],
             [
              0.3333333333333333,
              "#9c179e"
             ],
             [
              0.4444444444444444,
              "#bd3786"
             ],
             [
              0.5555555555555556,
              "#d8576b"
             ],
             [
              0.6666666666666666,
              "#ed7953"
             ],
             [
              0.7777777777777778,
              "#fb9f3a"
             ],
             [
              0.8888888888888888,
              "#fdca26"
             ],
             [
              1,
              "#f0f921"
             ]
            ],
            "type": "contour"
           }
          ],
          "contourcarpet": [
           {
            "colorbar": {
             "outlinewidth": 0,
             "ticks": ""
            },
            "type": "contourcarpet"
           }
          ],
          "heatmap": [
           {
            "colorbar": {
             "outlinewidth": 0,
             "ticks": ""
            },
            "colorscale": [
             [
              0,
              "#0d0887"
             ],
             [
              0.1111111111111111,
              "#46039f"
             ],
             [
              0.2222222222222222,
              "#7201a8"
             ],
             [
              0.3333333333333333,
              "#9c179e"
             ],
             [
              0.4444444444444444,
              "#bd3786"
             ],
             [
              0.5555555555555556,
              "#d8576b"
             ],
             [
              0.6666666666666666,
              "#ed7953"
             ],
             [
              0.7777777777777778,
              "#fb9f3a"
             ],
             [
              0.8888888888888888,
              "#fdca26"
             ],
             [
              1,
              "#f0f921"
             ]
            ],
            "type": "heatmap"
           }
          ],
          "heatmapgl": [
           {
            "colorbar": {
             "outlinewidth": 0,
             "ticks": ""
            },
            "colorscale": [
             [
              0,
              "#0d0887"
             ],
             [
              0.1111111111111111,
              "#46039f"
             ],
             [
              0.2222222222222222,
              "#7201a8"
             ],
             [
              0.3333333333333333,
              "#9c179e"
             ],
             [
              0.4444444444444444,
              "#bd3786"
             ],
             [
              0.5555555555555556,
              "#d8576b"
             ],
             [
              0.6666666666666666,
              "#ed7953"
             ],
             [
              0.7777777777777778,
              "#fb9f3a"
             ],
             [
              0.8888888888888888,
              "#fdca26"
             ],
             [
              1,
              "#f0f921"
             ]
            ],
            "type": "heatmapgl"
           }
          ],
          "histogram": [
           {
            "marker": {
             "colorbar": {
              "outlinewidth": 0,
              "ticks": ""
             }
            },
            "type": "histogram"
           }
          ],
          "histogram2d": [
           {
            "colorbar": {
             "outlinewidth": 0,
             "ticks": ""
            },
            "colorscale": [
             [
              0,
              "#0d0887"
             ],
             [
              0.1111111111111111,
              "#46039f"
             ],
             [
              0.2222222222222222,
              "#7201a8"
             ],
             [
              0.3333333333333333,
              "#9c179e"
             ],
             [
              0.4444444444444444,
              "#bd3786"
             ],
             [
              0.5555555555555556,
              "#d8576b"
             ],
             [
              0.6666666666666666,
              "#ed7953"
             ],
             [
              0.7777777777777778,
              "#fb9f3a"
             ],
             [
              0.8888888888888888,
              "#fdca26"
             ],
             [
              1,
              "#f0f921"
             ]
            ],
            "type": "histogram2d"
           }
          ],
          "histogram2dcontour": [
           {
            "colorbar": {
             "outlinewidth": 0,
             "ticks": ""
            },
            "colorscale": [
             [
              0,
              "#0d0887"
             ],
             [
              0.1111111111111111,
              "#46039f"
             ],
             [
              0.2222222222222222,
              "#7201a8"
             ],
             [
              0.3333333333333333,
              "#9c179e"
             ],
             [
              0.4444444444444444,
              "#bd3786"
             ],
             [
              0.5555555555555556,
              "#d8576b"
             ],
             [
              0.6666666666666666,
              "#ed7953"
             ],
             [
              0.7777777777777778,
              "#fb9f3a"
             ],
             [
              0.8888888888888888,
              "#fdca26"
             ],
             [
              1,
              "#f0f921"
             ]
            ],
            "type": "histogram2dcontour"
           }
          ],
          "mesh3d": [
           {
            "colorbar": {
             "outlinewidth": 0,
             "ticks": ""
            },
            "type": "mesh3d"
           }
          ],
          "parcoords": [
           {
            "line": {
             "colorbar": {
              "outlinewidth": 0,
              "ticks": ""
             }
            },
            "type": "parcoords"
           }
          ],
          "pie": [
           {
            "automargin": true,
            "type": "pie"
           }
          ],
          "scatter": [
           {
            "marker": {
             "colorbar": {
              "outlinewidth": 0,
              "ticks": ""
             }
            },
            "type": "scatter"
           }
          ],
          "scatter3d": [
           {
            "line": {
             "colorbar": {
              "outlinewidth": 0,
              "ticks": ""
             }
            },
            "marker": {
             "colorbar": {
              "outlinewidth": 0,
              "ticks": ""
             }
            },
            "type": "scatter3d"
           }
          ],
          "scattercarpet": [
           {
            "marker": {
             "colorbar": {
              "outlinewidth": 0,
              "ticks": ""
             }
            },
            "type": "scattercarpet"
           }
          ],
          "scattergeo": [
           {
            "marker": {
             "colorbar": {
              "outlinewidth": 0,
              "ticks": ""
             }
            },
            "type": "scattergeo"
           }
          ],
          "scattergl": [
           {
            "marker": {
             "colorbar": {
              "outlinewidth": 0,
              "ticks": ""
             }
            },
            "type": "scattergl"
           }
          ],
          "scattermapbox": [
           {
            "marker": {
             "colorbar": {
              "outlinewidth": 0,
              "ticks": ""
             }
            },
            "type": "scattermapbox"
           }
          ],
          "scatterpolar": [
           {
            "marker": {
             "colorbar": {
              "outlinewidth": 0,
              "ticks": ""
             }
            },
            "type": "scatterpolar"
           }
          ],
          "scatterpolargl": [
           {
            "marker": {
             "colorbar": {
              "outlinewidth": 0,
              "ticks": ""
             }
            },
            "type": "scatterpolargl"
           }
          ],
          "scatterternary": [
           {
            "marker": {
             "colorbar": {
              "outlinewidth": 0,
              "ticks": ""
             }
            },
            "type": "scatterternary"
           }
          ],
          "surface": [
           {
            "colorbar": {
             "outlinewidth": 0,
             "ticks": ""
            },
            "colorscale": [
             [
              0,
              "#0d0887"
             ],
             [
              0.1111111111111111,
              "#46039f"
             ],
             [
              0.2222222222222222,
              "#7201a8"
             ],
             [
              0.3333333333333333,
              "#9c179e"
             ],
             [
              0.4444444444444444,
              "#bd3786"
             ],
             [
              0.5555555555555556,
              "#d8576b"
             ],
             [
              0.6666666666666666,
              "#ed7953"
             ],
             [
              0.7777777777777778,
              "#fb9f3a"
             ],
             [
              0.8888888888888888,
              "#fdca26"
             ],
             [
              1,
              "#f0f921"
             ]
            ],
            "type": "surface"
           }
          ],
          "table": [
           {
            "cells": {
             "fill": {
              "color": "#EBF0F8"
             },
             "line": {
              "color": "white"
             }
            },
            "header": {
             "fill": {
              "color": "#C8D4E3"
             },
             "line": {
              "color": "white"
             }
            },
            "type": "table"
           }
          ]
         },
         "layout": {
          "annotationdefaults": {
           "arrowcolor": "#2a3f5f",
           "arrowhead": 0,
           "arrowwidth": 1
          },
          "coloraxis": {
           "colorbar": {
            "outlinewidth": 0,
            "ticks": ""
           }
          },
          "colorscale": {
           "diverging": [
            [
             0,
             "#8e0152"
            ],
            [
             0.1,
             "#c51b7d"
            ],
            [
             0.2,
             "#de77ae"
            ],
            [
             0.3,
             "#f1b6da"
            ],
            [
             0.4,
             "#fde0ef"
            ],
            [
             0.5,
             "#f7f7f7"
            ],
            [
             0.6,
             "#e6f5d0"
            ],
            [
             0.7,
             "#b8e186"
            ],
            [
             0.8,
             "#7fbc41"
            ],
            [
             0.9,
             "#4d9221"
            ],
            [
             1,
             "#276419"
            ]
           ],
           "sequential": [
            [
             0,
             "#0d0887"
            ],
            [
             0.1111111111111111,
             "#46039f"
            ],
            [
             0.2222222222222222,
             "#7201a8"
            ],
            [
             0.3333333333333333,
             "#9c179e"
            ],
            [
             0.4444444444444444,
             "#bd3786"
            ],
            [
             0.5555555555555556,
             "#d8576b"
            ],
            [
             0.6666666666666666,
             "#ed7953"
            ],
            [
             0.7777777777777778,
             "#fb9f3a"
            ],
            [
             0.8888888888888888,
             "#fdca26"
            ],
            [
             1,
             "#f0f921"
            ]
           ],
           "sequentialminus": [
            [
             0,
             "#0d0887"
            ],
            [
             0.1111111111111111,
             "#46039f"
            ],
            [
             0.2222222222222222,
             "#7201a8"
            ],
            [
             0.3333333333333333,
             "#9c179e"
            ],
            [
             0.4444444444444444,
             "#bd3786"
            ],
            [
             0.5555555555555556,
             "#d8576b"
            ],
            [
             0.6666666666666666,
             "#ed7953"
            ],
            [
             0.7777777777777778,
             "#fb9f3a"
            ],
            [
             0.8888888888888888,
             "#fdca26"
            ],
            [
             1,
             "#f0f921"
            ]
           ]
          },
          "colorway": [
           "#636efa",
           "#EF553B",
           "#00cc96",
           "#ab63fa",
           "#FFA15A",
           "#19d3f3",
           "#FF6692",
           "#B6E880",
           "#FF97FF",
           "#FECB52"
          ],
          "font": {
           "color": "#2a3f5f"
          },
          "geo": {
           "bgcolor": "white",
           "lakecolor": "white",
           "landcolor": "#E5ECF6",
           "showlakes": true,
           "showland": true,
           "subunitcolor": "white"
          },
          "hoverlabel": {
           "align": "left"
          },
          "hovermode": "closest",
          "mapbox": {
           "style": "light"
          },
          "paper_bgcolor": "white",
          "plot_bgcolor": "#E5ECF6",
          "polar": {
           "angularaxis": {
            "gridcolor": "white",
            "linecolor": "white",
            "ticks": ""
           },
           "bgcolor": "#E5ECF6",
           "radialaxis": {
            "gridcolor": "white",
            "linecolor": "white",
            "ticks": ""
           }
          },
          "scene": {
           "xaxis": {
            "backgroundcolor": "#E5ECF6",
            "gridcolor": "white",
            "gridwidth": 2,
            "linecolor": "white",
            "showbackground": true,
            "ticks": "",
            "zerolinecolor": "white"
           },
           "yaxis": {
            "backgroundcolor": "#E5ECF6",
            "gridcolor": "white",
            "gridwidth": 2,
            "linecolor": "white",
            "showbackground": true,
            "ticks": "",
            "zerolinecolor": "white"
           },
           "zaxis": {
            "backgroundcolor": "#E5ECF6",
            "gridcolor": "white",
            "gridwidth": 2,
            "linecolor": "white",
            "showbackground": true,
            "ticks": "",
            "zerolinecolor": "white"
           }
          },
          "shapedefaults": {
           "line": {
            "color": "#2a3f5f"
           }
          },
          "ternary": {
           "aaxis": {
            "gridcolor": "white",
            "linecolor": "white",
            "ticks": ""
           },
           "baxis": {
            "gridcolor": "white",
            "linecolor": "white",
            "ticks": ""
           },
           "bgcolor": "#E5ECF6",
           "caxis": {
            "gridcolor": "white",
            "linecolor": "white",
            "ticks": ""
           }
          },
          "title": {
           "x": 0.05
          },
          "xaxis": {
           "automargin": true,
           "gridcolor": "white",
           "linecolor": "white",
           "ticks": "",
           "title": {
            "standoff": 15
           },
           "zerolinecolor": "white",
           "zerolinewidth": 2
          },
          "yaxis": {
           "automargin": true,
           "gridcolor": "white",
           "linecolor": "white",
           "ticks": "",
           "title": {
            "standoff": 15
           },
           "zerolinecolor": "white",
           "zerolinewidth": 2
          }
         }
        },
        "title": {
         "text": "The Ten countries most affected by coronavirus (confirmed cases)"
        },
        "width": 800,
        "xaxis": {
         "anchor": "y",
         "domain": [
          0,
          1
         ],
         "title": {
          "text": "Country_Region"
         }
        },
        "yaxis": {
         "anchor": "x",
         "domain": [
          0,
          1
         ],
         "title": {
          "text": "Confirmed"
         }
        }
       }
      },
      "text/html": [
       "<div>\n",
       "        \n",
       "        \n",
       "            <div id=\"d0569ae1-9596-4938-96c4-b4c230f65d4f\" class=\"plotly-graph-div\" style=\"height:500px; width:800px;\"></div>\n",
       "            <script type=\"text/javascript\">\n",
       "                require([\"plotly\"], function(Plotly) {\n",
       "                    window.PLOTLYENV=window.PLOTLYENV || {};\n",
       "                    \n",
       "                if (document.getElementById(\"d0569ae1-9596-4938-96c4-b4c230f65d4f\")) {\n",
       "                    Plotly.newPlot(\n",
       "                        'd0569ae1-9596-4938-96c4-b4c230f65d4f',\n",
       "                        [{\"alignmentgroup\": \"True\", \"hovertemplate\": \"Country_Region=%{x}<br>Confirmed=%{y}<extra></extra>\", \"legendgroup\": \"\", \"marker\": {\"color\": \"pink\"}, \"name\": \"\", \"offsetgroup\": \"\", \"orientation\": \"v\", \"showlegend\": false, \"textposition\": \"auto\", \"type\": \"bar\", \"x\": [\"US\", \"India\", \"Brazil\", \"United Kingdom\", \"Russia\", \"France\", \"Spain\", \"Italy\", \"Turkey\", \"Germany\"], \"xaxis\": \"x\", \"y\": [26557031.0, 10790183.0, 9339420.0, 3882972.0, 3874830.0, 3310051.0, 2883465.0, 2583790.0, 2501079.0, 2254419.0], \"yaxis\": \"y\"}],\n",
       "                        {\"barmode\": \"relative\", \"height\": 500, \"legend\": {\"tracegroupgap\": 0}, \"template\": {\"data\": {\"bar\": [{\"error_x\": {\"color\": \"#2a3f5f\"}, \"error_y\": {\"color\": \"#2a3f5f\"}, \"marker\": {\"line\": {\"color\": \"#E5ECF6\", \"width\": 0.5}}, \"type\": \"bar\"}], \"barpolar\": [{\"marker\": {\"line\": {\"color\": \"#E5ECF6\", \"width\": 0.5}}, \"type\": \"barpolar\"}], \"carpet\": [{\"aaxis\": {\"endlinecolor\": \"#2a3f5f\", \"gridcolor\": \"white\", \"linecolor\": \"white\", \"minorgridcolor\": \"white\", \"startlinecolor\": \"#2a3f5f\"}, \"baxis\": {\"endlinecolor\": \"#2a3f5f\", \"gridcolor\": \"white\", \"linecolor\": \"white\", \"minorgridcolor\": \"white\", \"startlinecolor\": \"#2a3f5f\"}, \"type\": \"carpet\"}], \"choropleth\": [{\"colorbar\": {\"outlinewidth\": 0, \"ticks\": \"\"}, \"type\": \"choropleth\"}], \"contour\": [{\"colorbar\": {\"outlinewidth\": 0, \"ticks\": \"\"}, \"colorscale\": [[0.0, \"#0d0887\"], [0.1111111111111111, \"#46039f\"], [0.2222222222222222, \"#7201a8\"], [0.3333333333333333, \"#9c179e\"], [0.4444444444444444, \"#bd3786\"], [0.5555555555555556, \"#d8576b\"], [0.6666666666666666, \"#ed7953\"], [0.7777777777777778, \"#fb9f3a\"], [0.8888888888888888, \"#fdca26\"], [1.0, \"#f0f921\"]], \"type\": \"contour\"}], \"contourcarpet\": [{\"colorbar\": {\"outlinewidth\": 0, \"ticks\": \"\"}, \"type\": \"contourcarpet\"}], \"heatmap\": [{\"colorbar\": {\"outlinewidth\": 0, \"ticks\": \"\"}, \"colorscale\": [[0.0, \"#0d0887\"], [0.1111111111111111, \"#46039f\"], [0.2222222222222222, \"#7201a8\"], [0.3333333333333333, \"#9c179e\"], [0.4444444444444444, \"#bd3786\"], [0.5555555555555556, \"#d8576b\"], [0.6666666666666666, \"#ed7953\"], [0.7777777777777778, \"#fb9f3a\"], [0.8888888888888888, \"#fdca26\"], [1.0, \"#f0f921\"]], \"type\": \"heatmap\"}], \"heatmapgl\": [{\"colorbar\": {\"outlinewidth\": 0, \"ticks\": \"\"}, \"colorscale\": [[0.0, \"#0d0887\"], [0.1111111111111111, \"#46039f\"], [0.2222222222222222, \"#7201a8\"], [0.3333333333333333, \"#9c179e\"], [0.4444444444444444, \"#bd3786\"], [0.5555555555555556, \"#d8576b\"], [0.6666666666666666, \"#ed7953\"], [0.7777777777777778, \"#fb9f3a\"], [0.8888888888888888, \"#fdca26\"], [1.0, \"#f0f921\"]], \"type\": \"heatmapgl\"}], \"histogram\": [{\"marker\": {\"colorbar\": {\"outlinewidth\": 0, \"ticks\": \"\"}}, \"type\": \"histogram\"}], \"histogram2d\": [{\"colorbar\": {\"outlinewidth\": 0, \"ticks\": \"\"}, \"colorscale\": [[0.0, \"#0d0887\"], [0.1111111111111111, \"#46039f\"], [0.2222222222222222, \"#7201a8\"], [0.3333333333333333, \"#9c179e\"], [0.4444444444444444, \"#bd3786\"], [0.5555555555555556, \"#d8576b\"], [0.6666666666666666, \"#ed7953\"], [0.7777777777777778, \"#fb9f3a\"], [0.8888888888888888, \"#fdca26\"], [1.0, \"#f0f921\"]], \"type\": \"histogram2d\"}], \"histogram2dcontour\": [{\"colorbar\": {\"outlinewidth\": 0, \"ticks\": \"\"}, \"colorscale\": [[0.0, \"#0d0887\"], [0.1111111111111111, \"#46039f\"], [0.2222222222222222, \"#7201a8\"], [0.3333333333333333, \"#9c179e\"], [0.4444444444444444, \"#bd3786\"], [0.5555555555555556, \"#d8576b\"], [0.6666666666666666, \"#ed7953\"], [0.7777777777777778, \"#fb9f3a\"], [0.8888888888888888, \"#fdca26\"], [1.0, \"#f0f921\"]], \"type\": \"histogram2dcontour\"}], \"mesh3d\": [{\"colorbar\": {\"outlinewidth\": 0, \"ticks\": \"\"}, \"type\": \"mesh3d\"}], \"parcoords\": [{\"line\": {\"colorbar\": {\"outlinewidth\": 0, \"ticks\": \"\"}}, \"type\": \"parcoords\"}], \"pie\": [{\"automargin\": true, \"type\": \"pie\"}], \"scatter\": [{\"marker\": {\"colorbar\": {\"outlinewidth\": 0, \"ticks\": \"\"}}, \"type\": \"scatter\"}], \"scatter3d\": [{\"line\": {\"colorbar\": {\"outlinewidth\": 0, \"ticks\": \"\"}}, \"marker\": {\"colorbar\": {\"outlinewidth\": 0, \"ticks\": \"\"}}, \"type\": \"scatter3d\"}], \"scattercarpet\": [{\"marker\": {\"colorbar\": {\"outlinewidth\": 0, \"ticks\": \"\"}}, \"type\": \"scattercarpet\"}], \"scattergeo\": [{\"marker\": {\"colorbar\": {\"outlinewidth\": 0, \"ticks\": \"\"}}, \"type\": \"scattergeo\"}], \"scattergl\": [{\"marker\": {\"colorbar\": {\"outlinewidth\": 0, \"ticks\": \"\"}}, \"type\": \"scattergl\"}], \"scattermapbox\": [{\"marker\": {\"colorbar\": {\"outlinewidth\": 0, \"ticks\": \"\"}}, \"type\": \"scattermapbox\"}], \"scatterpolar\": [{\"marker\": {\"colorbar\": {\"outlinewidth\": 0, \"ticks\": \"\"}}, \"type\": \"scatterpolar\"}], \"scatterpolargl\": [{\"marker\": {\"colorbar\": {\"outlinewidth\": 0, \"ticks\": \"\"}}, \"type\": \"scatterpolargl\"}], \"scatterternary\": [{\"marker\": {\"colorbar\": {\"outlinewidth\": 0, \"ticks\": \"\"}}, \"type\": \"scatterternary\"}], \"surface\": [{\"colorbar\": {\"outlinewidth\": 0, \"ticks\": \"\"}, \"colorscale\": [[0.0, \"#0d0887\"], [0.1111111111111111, \"#46039f\"], [0.2222222222222222, \"#7201a8\"], [0.3333333333333333, \"#9c179e\"], [0.4444444444444444, \"#bd3786\"], [0.5555555555555556, \"#d8576b\"], [0.6666666666666666, \"#ed7953\"], [0.7777777777777778, \"#fb9f3a\"], [0.8888888888888888, \"#fdca26\"], [1.0, \"#f0f921\"]], \"type\": \"surface\"}], \"table\": [{\"cells\": {\"fill\": {\"color\": \"#EBF0F8\"}, \"line\": {\"color\": \"white\"}}, \"header\": {\"fill\": {\"color\": \"#C8D4E3\"}, \"line\": {\"color\": \"white\"}}, \"type\": \"table\"}]}, \"layout\": {\"annotationdefaults\": {\"arrowcolor\": \"#2a3f5f\", \"arrowhead\": 0, \"arrowwidth\": 1}, \"coloraxis\": {\"colorbar\": {\"outlinewidth\": 0, \"ticks\": \"\"}}, \"colorscale\": {\"diverging\": [[0, \"#8e0152\"], [0.1, \"#c51b7d\"], [0.2, \"#de77ae\"], [0.3, \"#f1b6da\"], [0.4, \"#fde0ef\"], [0.5, \"#f7f7f7\"], [0.6, \"#e6f5d0\"], [0.7, \"#b8e186\"], [0.8, \"#7fbc41\"], [0.9, \"#4d9221\"], [1, \"#276419\"]], \"sequential\": [[0.0, \"#0d0887\"], [0.1111111111111111, \"#46039f\"], [0.2222222222222222, \"#7201a8\"], [0.3333333333333333, \"#9c179e\"], [0.4444444444444444, \"#bd3786\"], [0.5555555555555556, \"#d8576b\"], [0.6666666666666666, \"#ed7953\"], [0.7777777777777778, \"#fb9f3a\"], [0.8888888888888888, \"#fdca26\"], [1.0, \"#f0f921\"]], \"sequentialminus\": [[0.0, \"#0d0887\"], [0.1111111111111111, \"#46039f\"], [0.2222222222222222, \"#7201a8\"], [0.3333333333333333, \"#9c179e\"], [0.4444444444444444, \"#bd3786\"], [0.5555555555555556, \"#d8576b\"], [0.6666666666666666, \"#ed7953\"], [0.7777777777777778, \"#fb9f3a\"], [0.8888888888888888, \"#fdca26\"], [1.0, \"#f0f921\"]]}, \"colorway\": [\"#636efa\", \"#EF553B\", \"#00cc96\", \"#ab63fa\", \"#FFA15A\", \"#19d3f3\", \"#FF6692\", \"#B6E880\", \"#FF97FF\", \"#FECB52\"], \"font\": {\"color\": \"#2a3f5f\"}, \"geo\": {\"bgcolor\": \"white\", \"lakecolor\": \"white\", \"landcolor\": \"#E5ECF6\", \"showlakes\": true, \"showland\": true, \"subunitcolor\": \"white\"}, \"hoverlabel\": {\"align\": \"left\"}, \"hovermode\": \"closest\", \"mapbox\": {\"style\": \"light\"}, \"paper_bgcolor\": \"white\", \"plot_bgcolor\": \"#E5ECF6\", \"polar\": {\"angularaxis\": {\"gridcolor\": \"white\", \"linecolor\": \"white\", \"ticks\": \"\"}, \"bgcolor\": \"#E5ECF6\", \"radialaxis\": {\"gridcolor\": \"white\", \"linecolor\": \"white\", \"ticks\": \"\"}}, \"scene\": {\"xaxis\": {\"backgroundcolor\": \"#E5ECF6\", \"gridcolor\": \"white\", \"gridwidth\": 2, \"linecolor\": \"white\", \"showbackground\": true, \"ticks\": \"\", \"zerolinecolor\": \"white\"}, \"yaxis\": {\"backgroundcolor\": \"#E5ECF6\", \"gridcolor\": \"white\", \"gridwidth\": 2, \"linecolor\": \"white\", \"showbackground\": true, \"ticks\": \"\", \"zerolinecolor\": \"white\"}, \"zaxis\": {\"backgroundcolor\": \"#E5ECF6\", \"gridcolor\": \"white\", \"gridwidth\": 2, \"linecolor\": \"white\", \"showbackground\": true, \"ticks\": \"\", \"zerolinecolor\": \"white\"}}, \"shapedefaults\": {\"line\": {\"color\": \"#2a3f5f\"}}, \"ternary\": {\"aaxis\": {\"gridcolor\": \"white\", \"linecolor\": \"white\", \"ticks\": \"\"}, \"baxis\": {\"gridcolor\": \"white\", \"linecolor\": \"white\", \"ticks\": \"\"}, \"bgcolor\": \"#E5ECF6\", \"caxis\": {\"gridcolor\": \"white\", \"linecolor\": \"white\", \"ticks\": \"\"}}, \"title\": {\"x\": 0.05}, \"xaxis\": {\"automargin\": true, \"gridcolor\": \"white\", \"linecolor\": \"white\", \"ticks\": \"\", \"title\": {\"standoff\": 15}, \"zerolinecolor\": \"white\", \"zerolinewidth\": 2}, \"yaxis\": {\"automargin\": true, \"gridcolor\": \"white\", \"linecolor\": \"white\", \"ticks\": \"\", \"title\": {\"standoff\": 15}, \"zerolinecolor\": \"white\", \"zerolinewidth\": 2}}}, \"title\": {\"text\": \"The Ten countries most affected by coronavirus (confirmed cases)\"}, \"width\": 800, \"xaxis\": {\"anchor\": \"y\", \"domain\": [0.0, 1.0], \"title\": {\"text\": \"Country_Region\"}}, \"yaxis\": {\"anchor\": \"x\", \"domain\": [0.0, 1.0], \"title\": {\"text\": \"Confirmed\"}}},\n",
       "                        {\"responsive\": true}\n",
       "                    ).then(function(){\n",
       "                            \n",
       "var gd = document.getElementById('d0569ae1-9596-4938-96c4-b4c230f65d4f');\n",
       "var x = new MutationObserver(function (mutations, observer) {{\n",
       "        var display = window.getComputedStyle(gd).display;\n",
       "        if (!display || display === 'none') {{\n",
       "            console.log([gd, 'removed!']);\n",
       "            Plotly.purge(gd);\n",
       "            observer.disconnect();\n",
       "        }}\n",
       "}});\n",
       "\n",
       "// Listen for the removal of the full notebook cells\n",
       "var notebookContainer = gd.closest('#notebook-container');\n",
       "if (notebookContainer) {{\n",
       "    x.observe(notebookContainer, {childList: true});\n",
       "}}\n",
       "\n",
       "// Listen for the clearing of the current output cell\n",
       "var outputEl = gd.closest('.output');\n",
       "if (outputEl) {{\n",
       "    x.observe(outputEl, {childList: true});\n",
       "}}\n",
       "\n",
       "                        })\n",
       "                };\n",
       "                });\n",
       "            </script>\n",
       "        </div>"
      ]
     },
     "metadata": {},
     "output_type": "display_data"
    }
   ],
   "source": [
    "cases_class_df.columns\n",
    "px.bar(\n",
    "   cases_class_df.head(10),\n",
    "   x= 'Country_Region',\n",
    "   y= 'Confirmed',\n",
    "  title='The Ten countries most affected by coronavirus (confirmed cases)',\n",
    "  color_discrete_sequence=['pink'],\n",
    "  height=500,\n",
    "  width=800\n",
    ")"
   ]
  },
  {
   "cell_type": "code",
   "execution_count": 31,
   "metadata": {
    "colab": {
     "base_uri": "https://localhost:8080/",
     "height": 518
    },
    "colab_type": "code",
    "executionInfo": {
     "elapsed": 1008,
     "status": "ok",
     "timestamp": 1586958448756,
     "user": {
      "displayName": "FORMASYS",
      "photoUrl": "https://lh3.googleusercontent.com/a-/AOh14Gh_qnc9hKHHHxqD_iZPXWelCaNz7MIzGtlLNB9MOg=s64",
      "userId": "12379751963299498949"
     },
     "user_tz": -60
    },
    "id": "MPl1ZC9UF5tP",
    "outputId": "119f93b4-592e-4b14-e857-6a06f46a47c3"
   },
   "outputs": [
    {
     "data": {
      "application/vnd.plotly.v1+json": {
       "config": {
        "plotlyServerURL": "https://plot.ly"
       },
       "data": [
        {
         "alignmentgroup": "True",
         "hovertemplate": "Country_Region=%{x}<br>Deaths=%{y}<extra></extra>",
         "legendgroup": "",
         "marker": {
          "color": "pink"
         },
         "name": "",
         "offsetgroup": "",
         "orientation": "v",
         "showlegend": false,
         "textposition": "auto",
         "type": "bar",
         "x": [
          "US",
          "India",
          "Brazil",
          "United Kingdom",
          "Russia",
          "France",
          "Spain",
          "Italy",
          "Turkey",
          "Germany"
         ],
         "xaxis": "x",
         "y": [
          450797,
          154703,
          227563,
          109547,
          74005,
          77741,
          60370,
          89820,
          26354,
          59776
         ],
         "yaxis": "y"
        }
       ],
       "layout": {
        "barmode": "relative",
        "height": 500,
        "legend": {
         "tracegroupgap": 0
        },
        "template": {
         "data": {
          "bar": [
           {
            "error_x": {
             "color": "#2a3f5f"
            },
            "error_y": {
             "color": "#2a3f5f"
            },
            "marker": {
             "line": {
              "color": "#E5ECF6",
              "width": 0.5
             }
            },
            "type": "bar"
           }
          ],
          "barpolar": [
           {
            "marker": {
             "line": {
              "color": "#E5ECF6",
              "width": 0.5
             }
            },
            "type": "barpolar"
           }
          ],
          "carpet": [
           {
            "aaxis": {
             "endlinecolor": "#2a3f5f",
             "gridcolor": "white",
             "linecolor": "white",
             "minorgridcolor": "white",
             "startlinecolor": "#2a3f5f"
            },
            "baxis": {
             "endlinecolor": "#2a3f5f",
             "gridcolor": "white",
             "linecolor": "white",
             "minorgridcolor": "white",
             "startlinecolor": "#2a3f5f"
            },
            "type": "carpet"
           }
          ],
          "choropleth": [
           {
            "colorbar": {
             "outlinewidth": 0,
             "ticks": ""
            },
            "type": "choropleth"
           }
          ],
          "contour": [
           {
            "colorbar": {
             "outlinewidth": 0,
             "ticks": ""
            },
            "colorscale": [
             [
              0,
              "#0d0887"
             ],
             [
              0.1111111111111111,
              "#46039f"
             ],
             [
              0.2222222222222222,
              "#7201a8"
             ],
             [
              0.3333333333333333,
              "#9c179e"
             ],
             [
              0.4444444444444444,
              "#bd3786"
             ],
             [
              0.5555555555555556,
              "#d8576b"
             ],
             [
              0.6666666666666666,
              "#ed7953"
             ],
             [
              0.7777777777777778,
              "#fb9f3a"
             ],
             [
              0.8888888888888888,
              "#fdca26"
             ],
             [
              1,
              "#f0f921"
             ]
            ],
            "type": "contour"
           }
          ],
          "contourcarpet": [
           {
            "colorbar": {
             "outlinewidth": 0,
             "ticks": ""
            },
            "type": "contourcarpet"
           }
          ],
          "heatmap": [
           {
            "colorbar": {
             "outlinewidth": 0,
             "ticks": ""
            },
            "colorscale": [
             [
              0,
              "#0d0887"
             ],
             [
              0.1111111111111111,
              "#46039f"
             ],
             [
              0.2222222222222222,
              "#7201a8"
             ],
             [
              0.3333333333333333,
              "#9c179e"
             ],
             [
              0.4444444444444444,
              "#bd3786"
             ],
             [
              0.5555555555555556,
              "#d8576b"
             ],
             [
              0.6666666666666666,
              "#ed7953"
             ],
             [
              0.7777777777777778,
              "#fb9f3a"
             ],
             [
              0.8888888888888888,
              "#fdca26"
             ],
             [
              1,
              "#f0f921"
             ]
            ],
            "type": "heatmap"
           }
          ],
          "heatmapgl": [
           {
            "colorbar": {
             "outlinewidth": 0,
             "ticks": ""
            },
            "colorscale": [
             [
              0,
              "#0d0887"
             ],
             [
              0.1111111111111111,
              "#46039f"
             ],
             [
              0.2222222222222222,
              "#7201a8"
             ],
             [
              0.3333333333333333,
              "#9c179e"
             ],
             [
              0.4444444444444444,
              "#bd3786"
             ],
             [
              0.5555555555555556,
              "#d8576b"
             ],
             [
              0.6666666666666666,
              "#ed7953"
             ],
             [
              0.7777777777777778,
              "#fb9f3a"
             ],
             [
              0.8888888888888888,
              "#fdca26"
             ],
             [
              1,
              "#f0f921"
             ]
            ],
            "type": "heatmapgl"
           }
          ],
          "histogram": [
           {
            "marker": {
             "colorbar": {
              "outlinewidth": 0,
              "ticks": ""
             }
            },
            "type": "histogram"
           }
          ],
          "histogram2d": [
           {
            "colorbar": {
             "outlinewidth": 0,
             "ticks": ""
            },
            "colorscale": [
             [
              0,
              "#0d0887"
             ],
             [
              0.1111111111111111,
              "#46039f"
             ],
             [
              0.2222222222222222,
              "#7201a8"
             ],
             [
              0.3333333333333333,
              "#9c179e"
             ],
             [
              0.4444444444444444,
              "#bd3786"
             ],
             [
              0.5555555555555556,
              "#d8576b"
             ],
             [
              0.6666666666666666,
              "#ed7953"
             ],
             [
              0.7777777777777778,
              "#fb9f3a"
             ],
             [
              0.8888888888888888,
              "#fdca26"
             ],
             [
              1,
              "#f0f921"
             ]
            ],
            "type": "histogram2d"
           }
          ],
          "histogram2dcontour": [
           {
            "colorbar": {
             "outlinewidth": 0,
             "ticks": ""
            },
            "colorscale": [
             [
              0,
              "#0d0887"
             ],
             [
              0.1111111111111111,
              "#46039f"
             ],
             [
              0.2222222222222222,
              "#7201a8"
             ],
             [
              0.3333333333333333,
              "#9c179e"
             ],
             [
              0.4444444444444444,
              "#bd3786"
             ],
             [
              0.5555555555555556,
              "#d8576b"
             ],
             [
              0.6666666666666666,
              "#ed7953"
             ],
             [
              0.7777777777777778,
              "#fb9f3a"
             ],
             [
              0.8888888888888888,
              "#fdca26"
             ],
             [
              1,
              "#f0f921"
             ]
            ],
            "type": "histogram2dcontour"
           }
          ],
          "mesh3d": [
           {
            "colorbar": {
             "outlinewidth": 0,
             "ticks": ""
            },
            "type": "mesh3d"
           }
          ],
          "parcoords": [
           {
            "line": {
             "colorbar": {
              "outlinewidth": 0,
              "ticks": ""
             }
            },
            "type": "parcoords"
           }
          ],
          "pie": [
           {
            "automargin": true,
            "type": "pie"
           }
          ],
          "scatter": [
           {
            "marker": {
             "colorbar": {
              "outlinewidth": 0,
              "ticks": ""
             }
            },
            "type": "scatter"
           }
          ],
          "scatter3d": [
           {
            "line": {
             "colorbar": {
              "outlinewidth": 0,
              "ticks": ""
             }
            },
            "marker": {
             "colorbar": {
              "outlinewidth": 0,
              "ticks": ""
             }
            },
            "type": "scatter3d"
           }
          ],
          "scattercarpet": [
           {
            "marker": {
             "colorbar": {
              "outlinewidth": 0,
              "ticks": ""
             }
            },
            "type": "scattercarpet"
           }
          ],
          "scattergeo": [
           {
            "marker": {
             "colorbar": {
              "outlinewidth": 0,
              "ticks": ""
             }
            },
            "type": "scattergeo"
           }
          ],
          "scattergl": [
           {
            "marker": {
             "colorbar": {
              "outlinewidth": 0,
              "ticks": ""
             }
            },
            "type": "scattergl"
           }
          ],
          "scattermapbox": [
           {
            "marker": {
             "colorbar": {
              "outlinewidth": 0,
              "ticks": ""
             }
            },
            "type": "scattermapbox"
           }
          ],
          "scatterpolar": [
           {
            "marker": {
             "colorbar": {
              "outlinewidth": 0,
              "ticks": ""
             }
            },
            "type": "scatterpolar"
           }
          ],
          "scatterpolargl": [
           {
            "marker": {
             "colorbar": {
              "outlinewidth": 0,
              "ticks": ""
             }
            },
            "type": "scatterpolargl"
           }
          ],
          "scatterternary": [
           {
            "marker": {
             "colorbar": {
              "outlinewidth": 0,
              "ticks": ""
             }
            },
            "type": "scatterternary"
           }
          ],
          "surface": [
           {
            "colorbar": {
             "outlinewidth": 0,
             "ticks": ""
            },
            "colorscale": [
             [
              0,
              "#0d0887"
             ],
             [
              0.1111111111111111,
              "#46039f"
             ],
             [
              0.2222222222222222,
              "#7201a8"
             ],
             [
              0.3333333333333333,
              "#9c179e"
             ],
             [
              0.4444444444444444,
              "#bd3786"
             ],
             [
              0.5555555555555556,
              "#d8576b"
             ],
             [
              0.6666666666666666,
              "#ed7953"
             ],
             [
              0.7777777777777778,
              "#fb9f3a"
             ],
             [
              0.8888888888888888,
              "#fdca26"
             ],
             [
              1,
              "#f0f921"
             ]
            ],
            "type": "surface"
           }
          ],
          "table": [
           {
            "cells": {
             "fill": {
              "color": "#EBF0F8"
             },
             "line": {
              "color": "white"
             }
            },
            "header": {
             "fill": {
              "color": "#C8D4E3"
             },
             "line": {
              "color": "white"
             }
            },
            "type": "table"
           }
          ]
         },
         "layout": {
          "annotationdefaults": {
           "arrowcolor": "#2a3f5f",
           "arrowhead": 0,
           "arrowwidth": 1
          },
          "coloraxis": {
           "colorbar": {
            "outlinewidth": 0,
            "ticks": ""
           }
          },
          "colorscale": {
           "diverging": [
            [
             0,
             "#8e0152"
            ],
            [
             0.1,
             "#c51b7d"
            ],
            [
             0.2,
             "#de77ae"
            ],
            [
             0.3,
             "#f1b6da"
            ],
            [
             0.4,
             "#fde0ef"
            ],
            [
             0.5,
             "#f7f7f7"
            ],
            [
             0.6,
             "#e6f5d0"
            ],
            [
             0.7,
             "#b8e186"
            ],
            [
             0.8,
             "#7fbc41"
            ],
            [
             0.9,
             "#4d9221"
            ],
            [
             1,
             "#276419"
            ]
           ],
           "sequential": [
            [
             0,
             "#0d0887"
            ],
            [
             0.1111111111111111,
             "#46039f"
            ],
            [
             0.2222222222222222,
             "#7201a8"
            ],
            [
             0.3333333333333333,
             "#9c179e"
            ],
            [
             0.4444444444444444,
             "#bd3786"
            ],
            [
             0.5555555555555556,
             "#d8576b"
            ],
            [
             0.6666666666666666,
             "#ed7953"
            ],
            [
             0.7777777777777778,
             "#fb9f3a"
            ],
            [
             0.8888888888888888,
             "#fdca26"
            ],
            [
             1,
             "#f0f921"
            ]
           ],
           "sequentialminus": [
            [
             0,
             "#0d0887"
            ],
            [
             0.1111111111111111,
             "#46039f"
            ],
            [
             0.2222222222222222,
             "#7201a8"
            ],
            [
             0.3333333333333333,
             "#9c179e"
            ],
            [
             0.4444444444444444,
             "#bd3786"
            ],
            [
             0.5555555555555556,
             "#d8576b"
            ],
            [
             0.6666666666666666,
             "#ed7953"
            ],
            [
             0.7777777777777778,
             "#fb9f3a"
            ],
            [
             0.8888888888888888,
             "#fdca26"
            ],
            [
             1,
             "#f0f921"
            ]
           ]
          },
          "colorway": [
           "#636efa",
           "#EF553B",
           "#00cc96",
           "#ab63fa",
           "#FFA15A",
           "#19d3f3",
           "#FF6692",
           "#B6E880",
           "#FF97FF",
           "#FECB52"
          ],
          "font": {
           "color": "#2a3f5f"
          },
          "geo": {
           "bgcolor": "white",
           "lakecolor": "white",
           "landcolor": "#E5ECF6",
           "showlakes": true,
           "showland": true,
           "subunitcolor": "white"
          },
          "hoverlabel": {
           "align": "left"
          },
          "hovermode": "closest",
          "mapbox": {
           "style": "light"
          },
          "paper_bgcolor": "white",
          "plot_bgcolor": "#E5ECF6",
          "polar": {
           "angularaxis": {
            "gridcolor": "white",
            "linecolor": "white",
            "ticks": ""
           },
           "bgcolor": "#E5ECF6",
           "radialaxis": {
            "gridcolor": "white",
            "linecolor": "white",
            "ticks": ""
           }
          },
          "scene": {
           "xaxis": {
            "backgroundcolor": "#E5ECF6",
            "gridcolor": "white",
            "gridwidth": 2,
            "linecolor": "white",
            "showbackground": true,
            "ticks": "",
            "zerolinecolor": "white"
           },
           "yaxis": {
            "backgroundcolor": "#E5ECF6",
            "gridcolor": "white",
            "gridwidth": 2,
            "linecolor": "white",
            "showbackground": true,
            "ticks": "",
            "zerolinecolor": "white"
           },
           "zaxis": {
            "backgroundcolor": "#E5ECF6",
            "gridcolor": "white",
            "gridwidth": 2,
            "linecolor": "white",
            "showbackground": true,
            "ticks": "",
            "zerolinecolor": "white"
           }
          },
          "shapedefaults": {
           "line": {
            "color": "#2a3f5f"
           }
          },
          "ternary": {
           "aaxis": {
            "gridcolor": "white",
            "linecolor": "white",
            "ticks": ""
           },
           "baxis": {
            "gridcolor": "white",
            "linecolor": "white",
            "ticks": ""
           },
           "bgcolor": "#E5ECF6",
           "caxis": {
            "gridcolor": "white",
            "linecolor": "white",
            "ticks": ""
           }
          },
          "title": {
           "x": 0.05
          },
          "xaxis": {
           "automargin": true,
           "gridcolor": "white",
           "linecolor": "white",
           "ticks": "",
           "title": {
            "standoff": 15
           },
           "zerolinecolor": "white",
           "zerolinewidth": 2
          },
          "yaxis": {
           "automargin": true,
           "gridcolor": "white",
           "linecolor": "white",
           "ticks": "",
           "title": {
            "standoff": 15
           },
           "zerolinecolor": "white",
           "zerolinewidth": 2
          }
         }
        },
        "title": {
         "text": "The Ten countries most affected by coronavirus (death cases)"
        },
        "width": 800,
        "xaxis": {
         "anchor": "y",
         "domain": [
          0,
          1
         ],
         "title": {
          "text": "Country_Region"
         }
        },
        "yaxis": {
         "anchor": "x",
         "domain": [
          0,
          1
         ],
         "title": {
          "text": "Deaths"
         }
        }
       }
      },
      "text/html": [
       "<div>\n",
       "        \n",
       "        \n",
       "            <div id=\"6650bf3b-1b35-4ffe-a91d-f8c50b47237f\" class=\"plotly-graph-div\" style=\"height:500px; width:800px;\"></div>\n",
       "            <script type=\"text/javascript\">\n",
       "                require([\"plotly\"], function(Plotly) {\n",
       "                    window.PLOTLYENV=window.PLOTLYENV || {};\n",
       "                    \n",
       "                if (document.getElementById(\"6650bf3b-1b35-4ffe-a91d-f8c50b47237f\")) {\n",
       "                    Plotly.newPlot(\n",
       "                        '6650bf3b-1b35-4ffe-a91d-f8c50b47237f',\n",
       "                        [{\"alignmentgroup\": \"True\", \"hovertemplate\": \"Country_Region=%{x}<br>Deaths=%{y}<extra></extra>\", \"legendgroup\": \"\", \"marker\": {\"color\": \"pink\"}, \"name\": \"\", \"offsetgroup\": \"\", \"orientation\": \"v\", \"showlegend\": false, \"textposition\": \"auto\", \"type\": \"bar\", \"x\": [\"US\", \"India\", \"Brazil\", \"United Kingdom\", \"Russia\", \"France\", \"Spain\", \"Italy\", \"Turkey\", \"Germany\"], \"xaxis\": \"x\", \"y\": [450797.0, 154703.0, 227563.0, 109547.0, 74005.0, 77741.0, 60370.0, 89820.0, 26354.0, 59776.0], \"yaxis\": \"y\"}],\n",
       "                        {\"barmode\": \"relative\", \"height\": 500, \"legend\": {\"tracegroupgap\": 0}, \"template\": {\"data\": {\"bar\": [{\"error_x\": {\"color\": \"#2a3f5f\"}, \"error_y\": {\"color\": \"#2a3f5f\"}, \"marker\": {\"line\": {\"color\": \"#E5ECF6\", \"width\": 0.5}}, \"type\": \"bar\"}], \"barpolar\": [{\"marker\": {\"line\": {\"color\": \"#E5ECF6\", \"width\": 0.5}}, \"type\": \"barpolar\"}], \"carpet\": [{\"aaxis\": {\"endlinecolor\": \"#2a3f5f\", \"gridcolor\": \"white\", \"linecolor\": \"white\", \"minorgridcolor\": \"white\", \"startlinecolor\": \"#2a3f5f\"}, \"baxis\": {\"endlinecolor\": \"#2a3f5f\", \"gridcolor\": \"white\", \"linecolor\": \"white\", \"minorgridcolor\": \"white\", \"startlinecolor\": \"#2a3f5f\"}, \"type\": \"carpet\"}], \"choropleth\": [{\"colorbar\": {\"outlinewidth\": 0, \"ticks\": \"\"}, \"type\": \"choropleth\"}], \"contour\": [{\"colorbar\": {\"outlinewidth\": 0, \"ticks\": \"\"}, \"colorscale\": [[0.0, \"#0d0887\"], [0.1111111111111111, \"#46039f\"], [0.2222222222222222, \"#7201a8\"], [0.3333333333333333, \"#9c179e\"], [0.4444444444444444, \"#bd3786\"], [0.5555555555555556, \"#d8576b\"], [0.6666666666666666, \"#ed7953\"], [0.7777777777777778, \"#fb9f3a\"], [0.8888888888888888, \"#fdca26\"], [1.0, \"#f0f921\"]], \"type\": \"contour\"}], \"contourcarpet\": [{\"colorbar\": {\"outlinewidth\": 0, \"ticks\": \"\"}, \"type\": \"contourcarpet\"}], \"heatmap\": [{\"colorbar\": {\"outlinewidth\": 0, \"ticks\": \"\"}, \"colorscale\": [[0.0, \"#0d0887\"], [0.1111111111111111, \"#46039f\"], [0.2222222222222222, \"#7201a8\"], [0.3333333333333333, \"#9c179e\"], [0.4444444444444444, \"#bd3786\"], [0.5555555555555556, \"#d8576b\"], [0.6666666666666666, \"#ed7953\"], [0.7777777777777778, \"#fb9f3a\"], [0.8888888888888888, \"#fdca26\"], [1.0, \"#f0f921\"]], \"type\": \"heatmap\"}], \"heatmapgl\": [{\"colorbar\": {\"outlinewidth\": 0, \"ticks\": \"\"}, \"colorscale\": [[0.0, \"#0d0887\"], [0.1111111111111111, \"#46039f\"], [0.2222222222222222, \"#7201a8\"], [0.3333333333333333, \"#9c179e\"], [0.4444444444444444, \"#bd3786\"], [0.5555555555555556, \"#d8576b\"], [0.6666666666666666, \"#ed7953\"], [0.7777777777777778, \"#fb9f3a\"], [0.8888888888888888, \"#fdca26\"], [1.0, \"#f0f921\"]], \"type\": \"heatmapgl\"}], \"histogram\": [{\"marker\": {\"colorbar\": {\"outlinewidth\": 0, \"ticks\": \"\"}}, \"type\": \"histogram\"}], \"histogram2d\": [{\"colorbar\": {\"outlinewidth\": 0, \"ticks\": \"\"}, \"colorscale\": [[0.0, \"#0d0887\"], [0.1111111111111111, \"#46039f\"], [0.2222222222222222, \"#7201a8\"], [0.3333333333333333, \"#9c179e\"], [0.4444444444444444, \"#bd3786\"], [0.5555555555555556, \"#d8576b\"], [0.6666666666666666, \"#ed7953\"], [0.7777777777777778, \"#fb9f3a\"], [0.8888888888888888, \"#fdca26\"], [1.0, \"#f0f921\"]], \"type\": \"histogram2d\"}], \"histogram2dcontour\": [{\"colorbar\": {\"outlinewidth\": 0, \"ticks\": \"\"}, \"colorscale\": [[0.0, \"#0d0887\"], [0.1111111111111111, \"#46039f\"], [0.2222222222222222, \"#7201a8\"], [0.3333333333333333, \"#9c179e\"], [0.4444444444444444, \"#bd3786\"], [0.5555555555555556, \"#d8576b\"], [0.6666666666666666, \"#ed7953\"], [0.7777777777777778, \"#fb9f3a\"], [0.8888888888888888, \"#fdca26\"], [1.0, \"#f0f921\"]], \"type\": \"histogram2dcontour\"}], \"mesh3d\": [{\"colorbar\": {\"outlinewidth\": 0, \"ticks\": \"\"}, \"type\": \"mesh3d\"}], \"parcoords\": [{\"line\": {\"colorbar\": {\"outlinewidth\": 0, \"ticks\": \"\"}}, \"type\": \"parcoords\"}], \"pie\": [{\"automargin\": true, \"type\": \"pie\"}], \"scatter\": [{\"marker\": {\"colorbar\": {\"outlinewidth\": 0, \"ticks\": \"\"}}, \"type\": \"scatter\"}], \"scatter3d\": [{\"line\": {\"colorbar\": {\"outlinewidth\": 0, \"ticks\": \"\"}}, \"marker\": {\"colorbar\": {\"outlinewidth\": 0, \"ticks\": \"\"}}, \"type\": \"scatter3d\"}], \"scattercarpet\": [{\"marker\": {\"colorbar\": {\"outlinewidth\": 0, \"ticks\": \"\"}}, \"type\": \"scattercarpet\"}], \"scattergeo\": [{\"marker\": {\"colorbar\": {\"outlinewidth\": 0, \"ticks\": \"\"}}, \"type\": \"scattergeo\"}], \"scattergl\": [{\"marker\": {\"colorbar\": {\"outlinewidth\": 0, \"ticks\": \"\"}}, \"type\": \"scattergl\"}], \"scattermapbox\": [{\"marker\": {\"colorbar\": {\"outlinewidth\": 0, \"ticks\": \"\"}}, \"type\": \"scattermapbox\"}], \"scatterpolar\": [{\"marker\": {\"colorbar\": {\"outlinewidth\": 0, \"ticks\": \"\"}}, \"type\": \"scatterpolar\"}], \"scatterpolargl\": [{\"marker\": {\"colorbar\": {\"outlinewidth\": 0, \"ticks\": \"\"}}, \"type\": \"scatterpolargl\"}], \"scatterternary\": [{\"marker\": {\"colorbar\": {\"outlinewidth\": 0, \"ticks\": \"\"}}, \"type\": \"scatterternary\"}], \"surface\": [{\"colorbar\": {\"outlinewidth\": 0, \"ticks\": \"\"}, \"colorscale\": [[0.0, \"#0d0887\"], [0.1111111111111111, \"#46039f\"], [0.2222222222222222, \"#7201a8\"], [0.3333333333333333, \"#9c179e\"], [0.4444444444444444, \"#bd3786\"], [0.5555555555555556, \"#d8576b\"], [0.6666666666666666, \"#ed7953\"], [0.7777777777777778, \"#fb9f3a\"], [0.8888888888888888, \"#fdca26\"], [1.0, \"#f0f921\"]], \"type\": \"surface\"}], \"table\": [{\"cells\": {\"fill\": {\"color\": \"#EBF0F8\"}, \"line\": {\"color\": \"white\"}}, \"header\": {\"fill\": {\"color\": \"#C8D4E3\"}, \"line\": {\"color\": \"white\"}}, \"type\": \"table\"}]}, \"layout\": {\"annotationdefaults\": {\"arrowcolor\": \"#2a3f5f\", \"arrowhead\": 0, \"arrowwidth\": 1}, \"coloraxis\": {\"colorbar\": {\"outlinewidth\": 0, \"ticks\": \"\"}}, \"colorscale\": {\"diverging\": [[0, \"#8e0152\"], [0.1, \"#c51b7d\"], [0.2, \"#de77ae\"], [0.3, \"#f1b6da\"], [0.4, \"#fde0ef\"], [0.5, \"#f7f7f7\"], [0.6, \"#e6f5d0\"], [0.7, \"#b8e186\"], [0.8, \"#7fbc41\"], [0.9, \"#4d9221\"], [1, \"#276419\"]], \"sequential\": [[0.0, \"#0d0887\"], [0.1111111111111111, \"#46039f\"], [0.2222222222222222, \"#7201a8\"], [0.3333333333333333, \"#9c179e\"], [0.4444444444444444, \"#bd3786\"], [0.5555555555555556, \"#d8576b\"], [0.6666666666666666, \"#ed7953\"], [0.7777777777777778, \"#fb9f3a\"], [0.8888888888888888, \"#fdca26\"], [1.0, \"#f0f921\"]], \"sequentialminus\": [[0.0, \"#0d0887\"], [0.1111111111111111, \"#46039f\"], [0.2222222222222222, \"#7201a8\"], [0.3333333333333333, \"#9c179e\"], [0.4444444444444444, \"#bd3786\"], [0.5555555555555556, \"#d8576b\"], [0.6666666666666666, \"#ed7953\"], [0.7777777777777778, \"#fb9f3a\"], [0.8888888888888888, \"#fdca26\"], [1.0, \"#f0f921\"]]}, \"colorway\": [\"#636efa\", \"#EF553B\", \"#00cc96\", \"#ab63fa\", \"#FFA15A\", \"#19d3f3\", \"#FF6692\", \"#B6E880\", \"#FF97FF\", \"#FECB52\"], \"font\": {\"color\": \"#2a3f5f\"}, \"geo\": {\"bgcolor\": \"white\", \"lakecolor\": \"white\", \"landcolor\": \"#E5ECF6\", \"showlakes\": true, \"showland\": true, \"subunitcolor\": \"white\"}, \"hoverlabel\": {\"align\": \"left\"}, \"hovermode\": \"closest\", \"mapbox\": {\"style\": \"light\"}, \"paper_bgcolor\": \"white\", \"plot_bgcolor\": \"#E5ECF6\", \"polar\": {\"angularaxis\": {\"gridcolor\": \"white\", \"linecolor\": \"white\", \"ticks\": \"\"}, \"bgcolor\": \"#E5ECF6\", \"radialaxis\": {\"gridcolor\": \"white\", \"linecolor\": \"white\", \"ticks\": \"\"}}, \"scene\": {\"xaxis\": {\"backgroundcolor\": \"#E5ECF6\", \"gridcolor\": \"white\", \"gridwidth\": 2, \"linecolor\": \"white\", \"showbackground\": true, \"ticks\": \"\", \"zerolinecolor\": \"white\"}, \"yaxis\": {\"backgroundcolor\": \"#E5ECF6\", \"gridcolor\": \"white\", \"gridwidth\": 2, \"linecolor\": \"white\", \"showbackground\": true, \"ticks\": \"\", \"zerolinecolor\": \"white\"}, \"zaxis\": {\"backgroundcolor\": \"#E5ECF6\", \"gridcolor\": \"white\", \"gridwidth\": 2, \"linecolor\": \"white\", \"showbackground\": true, \"ticks\": \"\", \"zerolinecolor\": \"white\"}}, \"shapedefaults\": {\"line\": {\"color\": \"#2a3f5f\"}}, \"ternary\": {\"aaxis\": {\"gridcolor\": \"white\", \"linecolor\": \"white\", \"ticks\": \"\"}, \"baxis\": {\"gridcolor\": \"white\", \"linecolor\": \"white\", \"ticks\": \"\"}, \"bgcolor\": \"#E5ECF6\", \"caxis\": {\"gridcolor\": \"white\", \"linecolor\": \"white\", \"ticks\": \"\"}}, \"title\": {\"x\": 0.05}, \"xaxis\": {\"automargin\": true, \"gridcolor\": \"white\", \"linecolor\": \"white\", \"ticks\": \"\", \"title\": {\"standoff\": 15}, \"zerolinecolor\": \"white\", \"zerolinewidth\": 2}, \"yaxis\": {\"automargin\": true, \"gridcolor\": \"white\", \"linecolor\": \"white\", \"ticks\": \"\", \"title\": {\"standoff\": 15}, \"zerolinecolor\": \"white\", \"zerolinewidth\": 2}}}, \"title\": {\"text\": \"The Ten countries most affected by coronavirus (death cases)\"}, \"width\": 800, \"xaxis\": {\"anchor\": \"y\", \"domain\": [0.0, 1.0], \"title\": {\"text\": \"Country_Region\"}}, \"yaxis\": {\"anchor\": \"x\", \"domain\": [0.0, 1.0], \"title\": {\"text\": \"Deaths\"}}},\n",
       "                        {\"responsive\": true}\n",
       "                    ).then(function(){\n",
       "                            \n",
       "var gd = document.getElementById('6650bf3b-1b35-4ffe-a91d-f8c50b47237f');\n",
       "var x = new MutationObserver(function (mutations, observer) {{\n",
       "        var display = window.getComputedStyle(gd).display;\n",
       "        if (!display || display === 'none') {{\n",
       "            console.log([gd, 'removed!']);\n",
       "            Plotly.purge(gd);\n",
       "            observer.disconnect();\n",
       "        }}\n",
       "}});\n",
       "\n",
       "// Listen for the removal of the full notebook cells\n",
       "var notebookContainer = gd.closest('#notebook-container');\n",
       "if (notebookContainer) {{\n",
       "    x.observe(notebookContainer, {childList: true});\n",
       "}}\n",
       "\n",
       "// Listen for the clearing of the current output cell\n",
       "var outputEl = gd.closest('.output');\n",
       "if (outputEl) {{\n",
       "    x.observe(outputEl, {childList: true});\n",
       "}}\n",
       "\n",
       "                        })\n",
       "                };\n",
       "                });\n",
       "            </script>\n",
       "        </div>"
      ]
     },
     "metadata": {},
     "output_type": "display_data"
    }
   ],
   "source": [
    "cases_class_df.columns\n",
    "px.bar(\n",
    "   cases_class_df.head(10),\n",
    "   x= 'Country_Region',\n",
    "   y= 'Deaths',\n",
    "  title='The Ten countries most affected by coronavirus (death cases)',\n",
    "  color_discrete_sequence=['pink'],\n",
    "  height=500,\n",
    "  width=800\n",
    ")"
   ]
  },
  {
   "cell_type": "code",
   "execution_count": 32,
   "metadata": {
    "colab": {
     "base_uri": "https://localhost:8080/",
     "height": 518
    },
    "colab_type": "code",
    "executionInfo": {
     "elapsed": 1292,
     "status": "ok",
     "timestamp": 1586958507566,
     "user": {
      "displayName": "FORMASYS",
      "photoUrl": "https://lh3.googleusercontent.com/a-/AOh14Gh_qnc9hKHHHxqD_iZPXWelCaNz7MIzGtlLNB9MOg=s64",
      "userId": "12379751963299498949"
     },
     "user_tz": -60
    },
    "id": "WQ6BUQ6cGJ9t",
    "outputId": "76946fcc-8494-49a0-dee7-c1dc842b1f40"
   },
   "outputs": [
    {
     "data": {
      "application/vnd.plotly.v1+json": {
       "config": {
        "plotlyServerURL": "https://plot.ly"
       },
       "data": [
        {
         "alignmentgroup": "True",
         "hovertemplate": "Country_Region=%{x}<br>Recovered=%{y}<extra></extra>",
         "legendgroup": "",
         "marker": {
          "color": "pink"
         },
         "name": "",
         "offsetgroup": "",
         "orientation": "v",
         "showlegend": false,
         "textposition": "auto",
         "type": "bar",
         "x": [
          "US",
          "India",
          "Brazil",
          "United Kingdom",
          "Russia",
          "France",
          "Spain",
          "Italy",
          "Turkey",
          "Germany"
         ],
         "xaxis": "x",
         "y": [
          null,
          10480455,
          8311881,
          9936,
          3352720,
          234678,
          150376,
          2059248,
          2387384,
          2003831
         ],
         "yaxis": "y"
        }
       ],
       "layout": {
        "barmode": "relative",
        "height": 500,
        "legend": {
         "tracegroupgap": 0
        },
        "template": {
         "data": {
          "bar": [
           {
            "error_x": {
             "color": "#2a3f5f"
            },
            "error_y": {
             "color": "#2a3f5f"
            },
            "marker": {
             "line": {
              "color": "#E5ECF6",
              "width": 0.5
             }
            },
            "type": "bar"
           }
          ],
          "barpolar": [
           {
            "marker": {
             "line": {
              "color": "#E5ECF6",
              "width": 0.5
             }
            },
            "type": "barpolar"
           }
          ],
          "carpet": [
           {
            "aaxis": {
             "endlinecolor": "#2a3f5f",
             "gridcolor": "white",
             "linecolor": "white",
             "minorgridcolor": "white",
             "startlinecolor": "#2a3f5f"
            },
            "baxis": {
             "endlinecolor": "#2a3f5f",
             "gridcolor": "white",
             "linecolor": "white",
             "minorgridcolor": "white",
             "startlinecolor": "#2a3f5f"
            },
            "type": "carpet"
           }
          ],
          "choropleth": [
           {
            "colorbar": {
             "outlinewidth": 0,
             "ticks": ""
            },
            "type": "choropleth"
           }
          ],
          "contour": [
           {
            "colorbar": {
             "outlinewidth": 0,
             "ticks": ""
            },
            "colorscale": [
             [
              0,
              "#0d0887"
             ],
             [
              0.1111111111111111,
              "#46039f"
             ],
             [
              0.2222222222222222,
              "#7201a8"
             ],
             [
              0.3333333333333333,
              "#9c179e"
             ],
             [
              0.4444444444444444,
              "#bd3786"
             ],
             [
              0.5555555555555556,
              "#d8576b"
             ],
             [
              0.6666666666666666,
              "#ed7953"
             ],
             [
              0.7777777777777778,
              "#fb9f3a"
             ],
             [
              0.8888888888888888,
              "#fdca26"
             ],
             [
              1,
              "#f0f921"
             ]
            ],
            "type": "contour"
           }
          ],
          "contourcarpet": [
           {
            "colorbar": {
             "outlinewidth": 0,
             "ticks": ""
            },
            "type": "contourcarpet"
           }
          ],
          "heatmap": [
           {
            "colorbar": {
             "outlinewidth": 0,
             "ticks": ""
            },
            "colorscale": [
             [
              0,
              "#0d0887"
             ],
             [
              0.1111111111111111,
              "#46039f"
             ],
             [
              0.2222222222222222,
              "#7201a8"
             ],
             [
              0.3333333333333333,
              "#9c179e"
             ],
             [
              0.4444444444444444,
              "#bd3786"
             ],
             [
              0.5555555555555556,
              "#d8576b"
             ],
             [
              0.6666666666666666,
              "#ed7953"
             ],
             [
              0.7777777777777778,
              "#fb9f3a"
             ],
             [
              0.8888888888888888,
              "#fdca26"
             ],
             [
              1,
              "#f0f921"
             ]
            ],
            "type": "heatmap"
           }
          ],
          "heatmapgl": [
           {
            "colorbar": {
             "outlinewidth": 0,
             "ticks": ""
            },
            "colorscale": [
             [
              0,
              "#0d0887"
             ],
             [
              0.1111111111111111,
              "#46039f"
             ],
             [
              0.2222222222222222,
              "#7201a8"
             ],
             [
              0.3333333333333333,
              "#9c179e"
             ],
             [
              0.4444444444444444,
              "#bd3786"
             ],
             [
              0.5555555555555556,
              "#d8576b"
             ],
             [
              0.6666666666666666,
              "#ed7953"
             ],
             [
              0.7777777777777778,
              "#fb9f3a"
             ],
             [
              0.8888888888888888,
              "#fdca26"
             ],
             [
              1,
              "#f0f921"
             ]
            ],
            "type": "heatmapgl"
           }
          ],
          "histogram": [
           {
            "marker": {
             "colorbar": {
              "outlinewidth": 0,
              "ticks": ""
             }
            },
            "type": "histogram"
           }
          ],
          "histogram2d": [
           {
            "colorbar": {
             "outlinewidth": 0,
             "ticks": ""
            },
            "colorscale": [
             [
              0,
              "#0d0887"
             ],
             [
              0.1111111111111111,
              "#46039f"
             ],
             [
              0.2222222222222222,
              "#7201a8"
             ],
             [
              0.3333333333333333,
              "#9c179e"
             ],
             [
              0.4444444444444444,
              "#bd3786"
             ],
             [
              0.5555555555555556,
              "#d8576b"
             ],
             [
              0.6666666666666666,
              "#ed7953"
             ],
             [
              0.7777777777777778,
              "#fb9f3a"
             ],
             [
              0.8888888888888888,
              "#fdca26"
             ],
             [
              1,
              "#f0f921"
             ]
            ],
            "type": "histogram2d"
           }
          ],
          "histogram2dcontour": [
           {
            "colorbar": {
             "outlinewidth": 0,
             "ticks": ""
            },
            "colorscale": [
             [
              0,
              "#0d0887"
             ],
             [
              0.1111111111111111,
              "#46039f"
             ],
             [
              0.2222222222222222,
              "#7201a8"
             ],
             [
              0.3333333333333333,
              "#9c179e"
             ],
             [
              0.4444444444444444,
              "#bd3786"
             ],
             [
              0.5555555555555556,
              "#d8576b"
             ],
             [
              0.6666666666666666,
              "#ed7953"
             ],
             [
              0.7777777777777778,
              "#fb9f3a"
             ],
             [
              0.8888888888888888,
              "#fdca26"
             ],
             [
              1,
              "#f0f921"
             ]
            ],
            "type": "histogram2dcontour"
           }
          ],
          "mesh3d": [
           {
            "colorbar": {
             "outlinewidth": 0,
             "ticks": ""
            },
            "type": "mesh3d"
           }
          ],
          "parcoords": [
           {
            "line": {
             "colorbar": {
              "outlinewidth": 0,
              "ticks": ""
             }
            },
            "type": "parcoords"
           }
          ],
          "pie": [
           {
            "automargin": true,
            "type": "pie"
           }
          ],
          "scatter": [
           {
            "marker": {
             "colorbar": {
              "outlinewidth": 0,
              "ticks": ""
             }
            },
            "type": "scatter"
           }
          ],
          "scatter3d": [
           {
            "line": {
             "colorbar": {
              "outlinewidth": 0,
              "ticks": ""
             }
            },
            "marker": {
             "colorbar": {
              "outlinewidth": 0,
              "ticks": ""
             }
            },
            "type": "scatter3d"
           }
          ],
          "scattercarpet": [
           {
            "marker": {
             "colorbar": {
              "outlinewidth": 0,
              "ticks": ""
             }
            },
            "type": "scattercarpet"
           }
          ],
          "scattergeo": [
           {
            "marker": {
             "colorbar": {
              "outlinewidth": 0,
              "ticks": ""
             }
            },
            "type": "scattergeo"
           }
          ],
          "scattergl": [
           {
            "marker": {
             "colorbar": {
              "outlinewidth": 0,
              "ticks": ""
             }
            },
            "type": "scattergl"
           }
          ],
          "scattermapbox": [
           {
            "marker": {
             "colorbar": {
              "outlinewidth": 0,
              "ticks": ""
             }
            },
            "type": "scattermapbox"
           }
          ],
          "scatterpolar": [
           {
            "marker": {
             "colorbar": {
              "outlinewidth": 0,
              "ticks": ""
             }
            },
            "type": "scatterpolar"
           }
          ],
          "scatterpolargl": [
           {
            "marker": {
             "colorbar": {
              "outlinewidth": 0,
              "ticks": ""
             }
            },
            "type": "scatterpolargl"
           }
          ],
          "scatterternary": [
           {
            "marker": {
             "colorbar": {
              "outlinewidth": 0,
              "ticks": ""
             }
            },
            "type": "scatterternary"
           }
          ],
          "surface": [
           {
            "colorbar": {
             "outlinewidth": 0,
             "ticks": ""
            },
            "colorscale": [
             [
              0,
              "#0d0887"
             ],
             [
              0.1111111111111111,
              "#46039f"
             ],
             [
              0.2222222222222222,
              "#7201a8"
             ],
             [
              0.3333333333333333,
              "#9c179e"
             ],
             [
              0.4444444444444444,
              "#bd3786"
             ],
             [
              0.5555555555555556,
              "#d8576b"
             ],
             [
              0.6666666666666666,
              "#ed7953"
             ],
             [
              0.7777777777777778,
              "#fb9f3a"
             ],
             [
              0.8888888888888888,
              "#fdca26"
             ],
             [
              1,
              "#f0f921"
             ]
            ],
            "type": "surface"
           }
          ],
          "table": [
           {
            "cells": {
             "fill": {
              "color": "#EBF0F8"
             },
             "line": {
              "color": "white"
             }
            },
            "header": {
             "fill": {
              "color": "#C8D4E3"
             },
             "line": {
              "color": "white"
             }
            },
            "type": "table"
           }
          ]
         },
         "layout": {
          "annotationdefaults": {
           "arrowcolor": "#2a3f5f",
           "arrowhead": 0,
           "arrowwidth": 1
          },
          "coloraxis": {
           "colorbar": {
            "outlinewidth": 0,
            "ticks": ""
           }
          },
          "colorscale": {
           "diverging": [
            [
             0,
             "#8e0152"
            ],
            [
             0.1,
             "#c51b7d"
            ],
            [
             0.2,
             "#de77ae"
            ],
            [
             0.3,
             "#f1b6da"
            ],
            [
             0.4,
             "#fde0ef"
            ],
            [
             0.5,
             "#f7f7f7"
            ],
            [
             0.6,
             "#e6f5d0"
            ],
            [
             0.7,
             "#b8e186"
            ],
            [
             0.8,
             "#7fbc41"
            ],
            [
             0.9,
             "#4d9221"
            ],
            [
             1,
             "#276419"
            ]
           ],
           "sequential": [
            [
             0,
             "#0d0887"
            ],
            [
             0.1111111111111111,
             "#46039f"
            ],
            [
             0.2222222222222222,
             "#7201a8"
            ],
            [
             0.3333333333333333,
             "#9c179e"
            ],
            [
             0.4444444444444444,
             "#bd3786"
            ],
            [
             0.5555555555555556,
             "#d8576b"
            ],
            [
             0.6666666666666666,
             "#ed7953"
            ],
            [
             0.7777777777777778,
             "#fb9f3a"
            ],
            [
             0.8888888888888888,
             "#fdca26"
            ],
            [
             1,
             "#f0f921"
            ]
           ],
           "sequentialminus": [
            [
             0,
             "#0d0887"
            ],
            [
             0.1111111111111111,
             "#46039f"
            ],
            [
             0.2222222222222222,
             "#7201a8"
            ],
            [
             0.3333333333333333,
             "#9c179e"
            ],
            [
             0.4444444444444444,
             "#bd3786"
            ],
            [
             0.5555555555555556,
             "#d8576b"
            ],
            [
             0.6666666666666666,
             "#ed7953"
            ],
            [
             0.7777777777777778,
             "#fb9f3a"
            ],
            [
             0.8888888888888888,
             "#fdca26"
            ],
            [
             1,
             "#f0f921"
            ]
           ]
          },
          "colorway": [
           "#636efa",
           "#EF553B",
           "#00cc96",
           "#ab63fa",
           "#FFA15A",
           "#19d3f3",
           "#FF6692",
           "#B6E880",
           "#FF97FF",
           "#FECB52"
          ],
          "font": {
           "color": "#2a3f5f"
          },
          "geo": {
           "bgcolor": "white",
           "lakecolor": "white",
           "landcolor": "#E5ECF6",
           "showlakes": true,
           "showland": true,
           "subunitcolor": "white"
          },
          "hoverlabel": {
           "align": "left"
          },
          "hovermode": "closest",
          "mapbox": {
           "style": "light"
          },
          "paper_bgcolor": "white",
          "plot_bgcolor": "#E5ECF6",
          "polar": {
           "angularaxis": {
            "gridcolor": "white",
            "linecolor": "white",
            "ticks": ""
           },
           "bgcolor": "#E5ECF6",
           "radialaxis": {
            "gridcolor": "white",
            "linecolor": "white",
            "ticks": ""
           }
          },
          "scene": {
           "xaxis": {
            "backgroundcolor": "#E5ECF6",
            "gridcolor": "white",
            "gridwidth": 2,
            "linecolor": "white",
            "showbackground": true,
            "ticks": "",
            "zerolinecolor": "white"
           },
           "yaxis": {
            "backgroundcolor": "#E5ECF6",
            "gridcolor": "white",
            "gridwidth": 2,
            "linecolor": "white",
            "showbackground": true,
            "ticks": "",
            "zerolinecolor": "white"
           },
           "zaxis": {
            "backgroundcolor": "#E5ECF6",
            "gridcolor": "white",
            "gridwidth": 2,
            "linecolor": "white",
            "showbackground": true,
            "ticks": "",
            "zerolinecolor": "white"
           }
          },
          "shapedefaults": {
           "line": {
            "color": "#2a3f5f"
           }
          },
          "ternary": {
           "aaxis": {
            "gridcolor": "white",
            "linecolor": "white",
            "ticks": ""
           },
           "baxis": {
            "gridcolor": "white",
            "linecolor": "white",
            "ticks": ""
           },
           "bgcolor": "#E5ECF6",
           "caxis": {
            "gridcolor": "white",
            "linecolor": "white",
            "ticks": ""
           }
          },
          "title": {
           "x": 0.05
          },
          "xaxis": {
           "automargin": true,
           "gridcolor": "white",
           "linecolor": "white",
           "ticks": "",
           "title": {
            "standoff": 15
           },
           "zerolinecolor": "white",
           "zerolinewidth": 2
          },
          "yaxis": {
           "automargin": true,
           "gridcolor": "white",
           "linecolor": "white",
           "ticks": "",
           "title": {
            "standoff": 15
           },
           "zerolinecolor": "white",
           "zerolinewidth": 2
          }
         }
        },
        "title": {
         "text": "The Ten countries most affected by coronavirus (recovered cases)"
        },
        "width": 800,
        "xaxis": {
         "anchor": "y",
         "domain": [
          0,
          1
         ],
         "title": {
          "text": "Country_Region"
         }
        },
        "yaxis": {
         "anchor": "x",
         "domain": [
          0,
          1
         ],
         "title": {
          "text": "Recovered"
         }
        }
       }
      },
      "text/html": [
       "<div>\n",
       "        \n",
       "        \n",
       "            <div id=\"84d24a60-87ab-4d42-b739-fc23998dc6ae\" class=\"plotly-graph-div\" style=\"height:500px; width:800px;\"></div>\n",
       "            <script type=\"text/javascript\">\n",
       "                require([\"plotly\"], function(Plotly) {\n",
       "                    window.PLOTLYENV=window.PLOTLYENV || {};\n",
       "                    \n",
       "                if (document.getElementById(\"84d24a60-87ab-4d42-b739-fc23998dc6ae\")) {\n",
       "                    Plotly.newPlot(\n",
       "                        '84d24a60-87ab-4d42-b739-fc23998dc6ae',\n",
       "                        [{\"alignmentgroup\": \"True\", \"hovertemplate\": \"Country_Region=%{x}<br>Recovered=%{y}<extra></extra>\", \"legendgroup\": \"\", \"marker\": {\"color\": \"pink\"}, \"name\": \"\", \"offsetgroup\": \"\", \"orientation\": \"v\", \"showlegend\": false, \"textposition\": \"auto\", \"type\": \"bar\", \"x\": [\"US\", \"India\", \"Brazil\", \"United Kingdom\", \"Russia\", \"France\", \"Spain\", \"Italy\", \"Turkey\", \"Germany\"], \"xaxis\": \"x\", \"y\": [null, 10480455.0, 8311881.0, 9936.0, 3352720.0, 234678.0, 150376.0, 2059248.0, 2387384.0, 2003831.0], \"yaxis\": \"y\"}],\n",
       "                        {\"barmode\": \"relative\", \"height\": 500, \"legend\": {\"tracegroupgap\": 0}, \"template\": {\"data\": {\"bar\": [{\"error_x\": {\"color\": \"#2a3f5f\"}, \"error_y\": {\"color\": \"#2a3f5f\"}, \"marker\": {\"line\": {\"color\": \"#E5ECF6\", \"width\": 0.5}}, \"type\": \"bar\"}], \"barpolar\": [{\"marker\": {\"line\": {\"color\": \"#E5ECF6\", \"width\": 0.5}}, \"type\": \"barpolar\"}], \"carpet\": [{\"aaxis\": {\"endlinecolor\": \"#2a3f5f\", \"gridcolor\": \"white\", \"linecolor\": \"white\", \"minorgridcolor\": \"white\", \"startlinecolor\": \"#2a3f5f\"}, \"baxis\": {\"endlinecolor\": \"#2a3f5f\", \"gridcolor\": \"white\", \"linecolor\": \"white\", \"minorgridcolor\": \"white\", \"startlinecolor\": \"#2a3f5f\"}, \"type\": \"carpet\"}], \"choropleth\": [{\"colorbar\": {\"outlinewidth\": 0, \"ticks\": \"\"}, \"type\": \"choropleth\"}], \"contour\": [{\"colorbar\": {\"outlinewidth\": 0, \"ticks\": \"\"}, \"colorscale\": [[0.0, \"#0d0887\"], [0.1111111111111111, \"#46039f\"], [0.2222222222222222, \"#7201a8\"], [0.3333333333333333, \"#9c179e\"], [0.4444444444444444, \"#bd3786\"], [0.5555555555555556, \"#d8576b\"], [0.6666666666666666, \"#ed7953\"], [0.7777777777777778, \"#fb9f3a\"], [0.8888888888888888, \"#fdca26\"], [1.0, \"#f0f921\"]], \"type\": \"contour\"}], \"contourcarpet\": [{\"colorbar\": {\"outlinewidth\": 0, \"ticks\": \"\"}, \"type\": \"contourcarpet\"}], \"heatmap\": [{\"colorbar\": {\"outlinewidth\": 0, \"ticks\": \"\"}, \"colorscale\": [[0.0, \"#0d0887\"], [0.1111111111111111, \"#46039f\"], [0.2222222222222222, \"#7201a8\"], [0.3333333333333333, \"#9c179e\"], [0.4444444444444444, \"#bd3786\"], [0.5555555555555556, \"#d8576b\"], [0.6666666666666666, \"#ed7953\"], [0.7777777777777778, \"#fb9f3a\"], [0.8888888888888888, \"#fdca26\"], [1.0, \"#f0f921\"]], \"type\": \"heatmap\"}], \"heatmapgl\": [{\"colorbar\": {\"outlinewidth\": 0, \"ticks\": \"\"}, \"colorscale\": [[0.0, \"#0d0887\"], [0.1111111111111111, \"#46039f\"], [0.2222222222222222, \"#7201a8\"], [0.3333333333333333, \"#9c179e\"], [0.4444444444444444, \"#bd3786\"], [0.5555555555555556, \"#d8576b\"], [0.6666666666666666, \"#ed7953\"], [0.7777777777777778, \"#fb9f3a\"], [0.8888888888888888, \"#fdca26\"], [1.0, \"#f0f921\"]], \"type\": \"heatmapgl\"}], \"histogram\": [{\"marker\": {\"colorbar\": {\"outlinewidth\": 0, \"ticks\": \"\"}}, \"type\": \"histogram\"}], \"histogram2d\": [{\"colorbar\": {\"outlinewidth\": 0, \"ticks\": \"\"}, \"colorscale\": [[0.0, \"#0d0887\"], [0.1111111111111111, \"#46039f\"], [0.2222222222222222, \"#7201a8\"], [0.3333333333333333, \"#9c179e\"], [0.4444444444444444, \"#bd3786\"], [0.5555555555555556, \"#d8576b\"], [0.6666666666666666, \"#ed7953\"], [0.7777777777777778, \"#fb9f3a\"], [0.8888888888888888, \"#fdca26\"], [1.0, \"#f0f921\"]], \"type\": \"histogram2d\"}], \"histogram2dcontour\": [{\"colorbar\": {\"outlinewidth\": 0, \"ticks\": \"\"}, \"colorscale\": [[0.0, \"#0d0887\"], [0.1111111111111111, \"#46039f\"], [0.2222222222222222, \"#7201a8\"], [0.3333333333333333, \"#9c179e\"], [0.4444444444444444, \"#bd3786\"], [0.5555555555555556, \"#d8576b\"], [0.6666666666666666, \"#ed7953\"], [0.7777777777777778, \"#fb9f3a\"], [0.8888888888888888, \"#fdca26\"], [1.0, \"#f0f921\"]], \"type\": \"histogram2dcontour\"}], \"mesh3d\": [{\"colorbar\": {\"outlinewidth\": 0, \"ticks\": \"\"}, \"type\": \"mesh3d\"}], \"parcoords\": [{\"line\": {\"colorbar\": {\"outlinewidth\": 0, \"ticks\": \"\"}}, \"type\": \"parcoords\"}], \"pie\": [{\"automargin\": true, \"type\": \"pie\"}], \"scatter\": [{\"marker\": {\"colorbar\": {\"outlinewidth\": 0, \"ticks\": \"\"}}, \"type\": \"scatter\"}], \"scatter3d\": [{\"line\": {\"colorbar\": {\"outlinewidth\": 0, \"ticks\": \"\"}}, \"marker\": {\"colorbar\": {\"outlinewidth\": 0, \"ticks\": \"\"}}, \"type\": \"scatter3d\"}], \"scattercarpet\": [{\"marker\": {\"colorbar\": {\"outlinewidth\": 0, \"ticks\": \"\"}}, \"type\": \"scattercarpet\"}], \"scattergeo\": [{\"marker\": {\"colorbar\": {\"outlinewidth\": 0, \"ticks\": \"\"}}, \"type\": \"scattergeo\"}], \"scattergl\": [{\"marker\": {\"colorbar\": {\"outlinewidth\": 0, \"ticks\": \"\"}}, \"type\": \"scattergl\"}], \"scattermapbox\": [{\"marker\": {\"colorbar\": {\"outlinewidth\": 0, \"ticks\": \"\"}}, \"type\": \"scattermapbox\"}], \"scatterpolar\": [{\"marker\": {\"colorbar\": {\"outlinewidth\": 0, \"ticks\": \"\"}}, \"type\": \"scatterpolar\"}], \"scatterpolargl\": [{\"marker\": {\"colorbar\": {\"outlinewidth\": 0, \"ticks\": \"\"}}, \"type\": \"scatterpolargl\"}], \"scatterternary\": [{\"marker\": {\"colorbar\": {\"outlinewidth\": 0, \"ticks\": \"\"}}, \"type\": \"scatterternary\"}], \"surface\": [{\"colorbar\": {\"outlinewidth\": 0, \"ticks\": \"\"}, \"colorscale\": [[0.0, \"#0d0887\"], [0.1111111111111111, \"#46039f\"], [0.2222222222222222, \"#7201a8\"], [0.3333333333333333, \"#9c179e\"], [0.4444444444444444, \"#bd3786\"], [0.5555555555555556, \"#d8576b\"], [0.6666666666666666, \"#ed7953\"], [0.7777777777777778, \"#fb9f3a\"], [0.8888888888888888, \"#fdca26\"], [1.0, \"#f0f921\"]], \"type\": \"surface\"}], \"table\": [{\"cells\": {\"fill\": {\"color\": \"#EBF0F8\"}, \"line\": {\"color\": \"white\"}}, \"header\": {\"fill\": {\"color\": \"#C8D4E3\"}, \"line\": {\"color\": \"white\"}}, \"type\": \"table\"}]}, \"layout\": {\"annotationdefaults\": {\"arrowcolor\": \"#2a3f5f\", \"arrowhead\": 0, \"arrowwidth\": 1}, \"coloraxis\": {\"colorbar\": {\"outlinewidth\": 0, \"ticks\": \"\"}}, \"colorscale\": {\"diverging\": [[0, \"#8e0152\"], [0.1, \"#c51b7d\"], [0.2, \"#de77ae\"], [0.3, \"#f1b6da\"], [0.4, \"#fde0ef\"], [0.5, \"#f7f7f7\"], [0.6, \"#e6f5d0\"], [0.7, \"#b8e186\"], [0.8, \"#7fbc41\"], [0.9, \"#4d9221\"], [1, \"#276419\"]], \"sequential\": [[0.0, \"#0d0887\"], [0.1111111111111111, \"#46039f\"], [0.2222222222222222, \"#7201a8\"], [0.3333333333333333, \"#9c179e\"], [0.4444444444444444, \"#bd3786\"], [0.5555555555555556, \"#d8576b\"], [0.6666666666666666, \"#ed7953\"], [0.7777777777777778, \"#fb9f3a\"], [0.8888888888888888, \"#fdca26\"], [1.0, \"#f0f921\"]], \"sequentialminus\": [[0.0, \"#0d0887\"], [0.1111111111111111, \"#46039f\"], [0.2222222222222222, \"#7201a8\"], [0.3333333333333333, \"#9c179e\"], [0.4444444444444444, \"#bd3786\"], [0.5555555555555556, \"#d8576b\"], [0.6666666666666666, \"#ed7953\"], [0.7777777777777778, \"#fb9f3a\"], [0.8888888888888888, \"#fdca26\"], [1.0, \"#f0f921\"]]}, \"colorway\": [\"#636efa\", \"#EF553B\", \"#00cc96\", \"#ab63fa\", \"#FFA15A\", \"#19d3f3\", \"#FF6692\", \"#B6E880\", \"#FF97FF\", \"#FECB52\"], \"font\": {\"color\": \"#2a3f5f\"}, \"geo\": {\"bgcolor\": \"white\", \"lakecolor\": \"white\", \"landcolor\": \"#E5ECF6\", \"showlakes\": true, \"showland\": true, \"subunitcolor\": \"white\"}, \"hoverlabel\": {\"align\": \"left\"}, \"hovermode\": \"closest\", \"mapbox\": {\"style\": \"light\"}, \"paper_bgcolor\": \"white\", \"plot_bgcolor\": \"#E5ECF6\", \"polar\": {\"angularaxis\": {\"gridcolor\": \"white\", \"linecolor\": \"white\", \"ticks\": \"\"}, \"bgcolor\": \"#E5ECF6\", \"radialaxis\": {\"gridcolor\": \"white\", \"linecolor\": \"white\", \"ticks\": \"\"}}, \"scene\": {\"xaxis\": {\"backgroundcolor\": \"#E5ECF6\", \"gridcolor\": \"white\", \"gridwidth\": 2, \"linecolor\": \"white\", \"showbackground\": true, \"ticks\": \"\", \"zerolinecolor\": \"white\"}, \"yaxis\": {\"backgroundcolor\": \"#E5ECF6\", \"gridcolor\": \"white\", \"gridwidth\": 2, \"linecolor\": \"white\", \"showbackground\": true, \"ticks\": \"\", \"zerolinecolor\": \"white\"}, \"zaxis\": {\"backgroundcolor\": \"#E5ECF6\", \"gridcolor\": \"white\", \"gridwidth\": 2, \"linecolor\": \"white\", \"showbackground\": true, \"ticks\": \"\", \"zerolinecolor\": \"white\"}}, \"shapedefaults\": {\"line\": {\"color\": \"#2a3f5f\"}}, \"ternary\": {\"aaxis\": {\"gridcolor\": \"white\", \"linecolor\": \"white\", \"ticks\": \"\"}, \"baxis\": {\"gridcolor\": \"white\", \"linecolor\": \"white\", \"ticks\": \"\"}, \"bgcolor\": \"#E5ECF6\", \"caxis\": {\"gridcolor\": \"white\", \"linecolor\": \"white\", \"ticks\": \"\"}}, \"title\": {\"x\": 0.05}, \"xaxis\": {\"automargin\": true, \"gridcolor\": \"white\", \"linecolor\": \"white\", \"ticks\": \"\", \"title\": {\"standoff\": 15}, \"zerolinecolor\": \"white\", \"zerolinewidth\": 2}, \"yaxis\": {\"automargin\": true, \"gridcolor\": \"white\", \"linecolor\": \"white\", \"ticks\": \"\", \"title\": {\"standoff\": 15}, \"zerolinecolor\": \"white\", \"zerolinewidth\": 2}}}, \"title\": {\"text\": \"The Ten countries most affected by coronavirus (recovered cases)\"}, \"width\": 800, \"xaxis\": {\"anchor\": \"y\", \"domain\": [0.0, 1.0], \"title\": {\"text\": \"Country_Region\"}}, \"yaxis\": {\"anchor\": \"x\", \"domain\": [0.0, 1.0], \"title\": {\"text\": \"Recovered\"}}},\n",
       "                        {\"responsive\": true}\n",
       "                    ).then(function(){\n",
       "                            \n",
       "var gd = document.getElementById('84d24a60-87ab-4d42-b739-fc23998dc6ae');\n",
       "var x = new MutationObserver(function (mutations, observer) {{\n",
       "        var display = window.getComputedStyle(gd).display;\n",
       "        if (!display || display === 'none') {{\n",
       "            console.log([gd, 'removed!']);\n",
       "            Plotly.purge(gd);\n",
       "            observer.disconnect();\n",
       "        }}\n",
       "}});\n",
       "\n",
       "// Listen for the removal of the full notebook cells\n",
       "var notebookContainer = gd.closest('#notebook-container');\n",
       "if (notebookContainer) {{\n",
       "    x.observe(notebookContainer, {childList: true});\n",
       "}}\n",
       "\n",
       "// Listen for the clearing of the current output cell\n",
       "var outputEl = gd.closest('.output');\n",
       "if (outputEl) {{\n",
       "    x.observe(outputEl, {childList: true});\n",
       "}}\n",
       "\n",
       "                        })\n",
       "                };\n",
       "                });\n",
       "            </script>\n",
       "        </div>"
      ]
     },
     "metadata": {},
     "output_type": "display_data"
    }
   ],
   "source": [
    "cases_class_df.columns\n",
    "px.bar(\n",
    "   cases_class_df.head(10),\n",
    "   x= 'Country_Region',\n",
    "   y= 'Recovered',\n",
    "  title='The Ten countries most affected by coronavirus (recovered cases)',\n",
    "  color_discrete_sequence=['pink'],\n",
    "  height=500,\n",
    "  width=800\n",
    ")"
   ]
  },
  {
   "cell_type": "code",
   "execution_count": 33,
   "metadata": {
    "colab": {},
    "colab_type": "code",
    "id": "dIozTDhcJoxu"
   },
   "outputs": [],
   "source": [
    "# Visualize the situation in Tunisia\n",
    "conf_mar=confirmed_df[confirmed_df['Country/Region']=='Tunisia']\n",
    "death_mar=death_df[death_df['Country/Region']=='Tunisia']\n",
    "recovered_mar=recovered_df[recovered_df['Country/Region']=='Tunisia']"
   ]
  },
  {
   "cell_type": "code",
   "execution_count": 34,
   "metadata": {
    "colab": {},
    "colab_type": "code",
    "id": "Dxsj2DJnLoxa"
   },
   "outputs": [],
   "source": [
    "# Prepare data in Tunisia\n",
    "conf_mar=conf_mar.copy().drop(['Province/State', 'Country/Region', 'Lat', 'Long'],axis=1).sum()\n",
    "death_mar=death_mar.copy().drop(['Province/State', 'Country/Region', 'Lat', 'Long'],axis=1).sum()\n",
    "recovered_mar=recovered_mar.copy().drop(['Province/State', 'Country/Region', 'Lat', 'Long'],axis=1).sum()"
   ]
  },
  {
   "cell_type": "code",
   "execution_count": 35,
   "metadata": {
    "colab": {
     "base_uri": "https://localhost:8080/",
     "height": 448
    },
    "colab_type": "code",
    "executionInfo": {
     "elapsed": 1934,
     "status": "ok",
     "timestamp": 1586960502516,
     "user": {
      "displayName": "FORMASYS",
      "photoUrl": "https://lh3.googleusercontent.com/a-/AOh14Gh_qnc9hKHHHxqD_iZPXWelCaNz7MIzGtlLNB9MOg=s64",
      "userId": "12379751963299498949"
     },
     "user_tz": -60
    },
    "id": "oNjtq9VmMkxy",
    "outputId": "36756cc7-2c39-4a25-dea1-6cb3c344d191"
   },
   "outputs": [
    {
     "data": {
      "text/plain": [
       "<matplotlib.legend.Legend at 0x16cb5f30828>"
      ]
     },
     "execution_count": 35,
     "metadata": {},
     "output_type": "execute_result"
    },
    {
     "data": {
      "image/png": "[encoded data removed]",
      "text/plain": [
       "<Figure size 1296x576 with 1 Axes>"
      ]
     },
     "metadata": {
      "needs_background": "light"
     },
     "output_type": "display_data"
    }
   ],
   "source": [
    "# Plot the graph\n",
    "fig,ax=plt.subplots(figsize=(18,8))\n",
    "ax.plot(conf_mar.index,conf_mar.values,label='Confirmed')\n",
    "ax.plot(death_mar.index,death_mar.values,label='Death')\n",
    "ax.plot(recovered_mar.index,recovered_mar.values,label='Recovered')\n",
    "\n",
    "plt.xticks(rotation='vertical')\n",
    "ax.set(xlabel='Date',ylabel='Nombre de Cas',title='Situation in Tunisia')\n",
    "plt.legend()"
   ]
  }
 ],
 "metadata": {
  "colab": {
   "authorship_tag": "ABX9TyPsd6Ch1sv4JY+8LnqbXZP6",
   "name": "analyse_covid19.ipynb",
   "provenance": []
  },
  "kernelspec": {
   "display_name": "Python 3",
   "language": "python",
   "name": "python3"
  },
  "language_info": {
   "codemirror_mode": {
    "name": "ipython",
    "version": 3
   },
   "file_extension": ".py",
   "mimetype": "text/x-python",
   "name": "python",
   "nbconvert_exporter": "python",
   "pygments_lexer": "ipython3",
   "version": "3.7.3"
  },
  "widgets": {
   "application/vnd.jupyter.widget-state+json": {
    "2d0f9b2e7ea842b7bad18f1809e5a1c4": {
     "model_module": "@jupyter-widgets/controls",
     "model_name": "DescriptionStyleModel",
     "state": {
      "_model_module": "@jupyter-widgets/controls",
      "_model_module_version": "1.5.0",
      "_model_name": "DescriptionStyleModel",
      "_view_count": null,
      "_view_module": "@jupyter-widgets/base",
      "_view_module_version": "1.2.0",
      "_view_name": "StyleView",
      "description_width": ""
     }
    },
    "56fccb2f2f8a4303bc72af5100a295fa": {
     "model_module": "plotlywidget",
     "model_name": "FigureModel",
     "state": {
      "_config": {
       "plotlyServerURL": "https://plot.ly"
      },
      "_data": [],
      "_dom_classes": [],
      "_js2py_layoutDelta": {},
      "_js2py_pointsCallback": {},
      "_js2py_relayout": {},
      "_js2py_restyle": {},
      "_js2py_traceDeltas": {},
      "_js2py_update": {},
      "_last_layout_edit_id": 0,
      "_last_trace_edit_id": 0,
      "_layout": {},
      "_model_module": "plotlywidget",
      "_model_module_version": "^1.4.0",
      "_model_name": "FigureModel",
      "_py2js_addTraces": {},
      "_py2js_animate": {},
      "_py2js_deleteTraces": {},
      "_py2js_moveTraces": {},
      "_py2js_relayout": null,
      "_py2js_removeLayoutProps": {},
      "_py2js_removeTraceProps": {},
      "_py2js_restyle": {},
      "_py2js_update": {},
      "_view_count": 0,
      "_view_module": "plotlywidget",
      "_view_module_version": "^1.4.0",
      "_view_name": "FigureView"
     }
    },
    "8026d42aaebd4796b42ba68567c40ffb": {
     "model_module": "@jupyter-widgets/base",
     "model_name": "LayoutModel",
     "state": {
      "_model_module": "@jupyter-widgets/base",
      "_model_module_version": "1.2.0",
      "_model_name": "LayoutModel",
      "_view_count": null,
      "_view_module": "@jupyter-widgets/base",
      "_view_module_version": "1.2.0",
      "_view_name": "LayoutView",
      "align_content": null,
      "align_items": null,
      "align_self": null,
      "border": null,
      "bottom": null,
      "display": null,
      "flex": null,
      "flex_flow": null,
      "grid_area": null,
      "grid_auto_columns": null,
      "grid_auto_flow": null,
      "grid_auto_rows": null,
      "grid_column": null,
      "grid_gap": null,
      "grid_row": null,
      "grid_template_areas": null,
      "grid_template_columns": null,
      "grid_template_rows": null,
      "height": null,
      "justify_content": null,
      "justify_items": null,
      "left": null,
      "margin": null,
      "max_height": null,
      "max_width": null,
      "min_height": null,
      "min_width": null,
      "object_fit": null,
      "object_position": null,
      "order": null,
      "overflow": null,
      "overflow_x": null,
      "overflow_y": null,
      "padding": null,
      "right": null,
      "top": null,
      "visibility": null,
      "width": null
     }
    },
    "90965014d19c4a68927b6de6b565fb22": {
     "model_module": "@jupyter-widgets/base",
     "model_name": "LayoutModel",
     "state": {
      "_model_module": "@jupyter-widgets/base",
      "_model_module_version": "1.2.0",
      "_model_name": "LayoutModel",
      "_view_count": null,
      "_view_module": "@jupyter-widgets/base",
      "_view_module_version": "1.2.0",
      "_view_name": "LayoutView",
      "align_content": null,
      "align_items": null,
      "align_self": null,
      "border": null,
      "bottom": null,
      "display": null,
      "flex": null,
      "flex_flow": null,
      "grid_area": null,
      "grid_auto_columns": null,
      "grid_auto_flow": null,
      "grid_auto_rows": null,
      "grid_column": null,
      "grid_gap": null,
      "grid_row": null,
      "grid_template_areas": null,
      "grid_template_columns": null,
      "grid_template_rows": null,
      "height": null,
      "justify_content": null,
      "justify_items": null,
      "left": null,
      "margin": null,
      "max_height": null,
      "max_width": null,
      "min_height": null,
      "min_width": null,
      "object_fit": null,
      "object_position": null,
      "order": null,
      "overflow": null,
      "overflow_x": null,
      "overflow_y": null,
      "padding": null,
      "right": null,
      "top": null,
      "visibility": null,
      "width": null
     }
    },
    "a37a48900f7447f7ba0ae20ec4d8657f": {
     "model_module": "@jupyter-widgets/output",
     "model_name": "OutputModel",
     "state": {
      "_dom_classes": [],
      "_model_module": "@jupyter-widgets/output",
      "_model_module_version": "1.0.0",
      "_model_name": "OutputModel",
      "_view_count": null,
      "_view_module": "@jupyter-widgets/output",
      "_view_module_version": "1.0.0",
      "_view_name": "OutputView",
      "layout": "IPY_MODEL_8026d42aaebd4796b42ba68567c40ffb",
      "msg_id": "",
      "outputs": [
       {
        "metadata": {
         "tags": []
        },
        "output_type": "display_data",
        "text/html": "<style  type=\"text/css\" >\n    #T_7b258028_7f1e_11ea_8eb0_0242ac1c0002row0_col4 {\n            background-color: purple;\n        }    #T_7b258028_7f1e_11ea_8eb0_0242ac1c0002row0_col5 {\n            background-color: red;\n        }    #T_7b258028_7f1e_11ea_8eb0_0242ac1c0002row0_col6 {\n            background-color: grey;\n        }    #T_7b258028_7f1e_11ea_8eb0_0242ac1c0002row1_col4 {\n            background-color: purple;\n        }    #T_7b258028_7f1e_11ea_8eb0_0242ac1c0002row1_col5 {\n            background-color: red;\n        }    #T_7b258028_7f1e_11ea_8eb0_0242ac1c0002row1_col6 {\n            background-color: grey;\n        }    #T_7b258028_7f1e_11ea_8eb0_0242ac1c0002row2_col4 {\n            background-color: purple;\n        }    #T_7b258028_7f1e_11ea_8eb0_0242ac1c0002row2_col5 {\n            background-color: red;\n        }    #T_7b258028_7f1e_11ea_8eb0_0242ac1c0002row2_col6 {\n            background-color: grey;\n        }    #T_7b258028_7f1e_11ea_8eb0_0242ac1c0002row3_col4 {\n            background-color: purple;\n        }    #T_7b258028_7f1e_11ea_8eb0_0242ac1c0002row3_col5 {\n            background-color: red;\n        }    #T_7b258028_7f1e_11ea_8eb0_0242ac1c0002row3_col6 {\n            background-color: grey;\n        }    #T_7b258028_7f1e_11ea_8eb0_0242ac1c0002row4_col4 {\n            background-color: purple;\n        }    #T_7b258028_7f1e_11ea_8eb0_0242ac1c0002row4_col5 {\n            background-color: red;\n        }    #T_7b258028_7f1e_11ea_8eb0_0242ac1c0002row4_col6 {\n            background-color: grey;\n        }    #T_7b258028_7f1e_11ea_8eb0_0242ac1c0002row5_col4 {\n            background-color: purple;\n        }    #T_7b258028_7f1e_11ea_8eb0_0242ac1c0002row5_col5 {\n            background-color: red;\n        }    #T_7b258028_7f1e_11ea_8eb0_0242ac1c0002row5_col6 {\n            background-color: grey;\n        }    #T_7b258028_7f1e_11ea_8eb0_0242ac1c0002row6_col4 {\n            background-color: purple;\n        }    #T_7b258028_7f1e_11ea_8eb0_0242ac1c0002row6_col5 {\n            background-color: red;\n        }    #T_7b258028_7f1e_11ea_8eb0_0242ac1c0002row6_col6 {\n            background-color: grey;\n        }    #T_7b258028_7f1e_11ea_8eb0_0242ac1c0002row7_col4 {\n            background-color: purple;\n        }    #T_7b258028_7f1e_11ea_8eb0_0242ac1c0002row7_col5 {\n            background-color: red;\n        }    #T_7b258028_7f1e_11ea_8eb0_0242ac1c0002row7_col6 {\n            background-color: grey;\n        }    #T_7b258028_7f1e_11ea_8eb0_0242ac1c0002row8_col4 {\n            background-color: purple;\n        }    #T_7b258028_7f1e_11ea_8eb0_0242ac1c0002row8_col5 {\n            background-color: red;\n        }    #T_7b258028_7f1e_11ea_8eb0_0242ac1c0002row8_col6 {\n            background-color: grey;\n        }    #T_7b258028_7f1e_11ea_8eb0_0242ac1c0002row9_col4 {\n            background-color: purple;\n        }    #T_7b258028_7f1e_11ea_8eb0_0242ac1c0002row9_col5 {\n            background-color: red;\n        }    #T_7b258028_7f1e_11ea_8eb0_0242ac1c0002row9_col6 {\n            background-color: grey;\n        }</style><table id=\"T_7b258028_7f1e_11ea_8eb0_0242ac1c0002\" ><thead>    <tr>        <th class=\"blank level0\" ></th>        <th class=\"col_heading level0 col0\" >Country_Region</th>        <th class=\"col_heading level0 col1\" >Last_Update</th>        <th class=\"col_heading level0 col2\" >Lat</th>        <th class=\"col_heading level0 col3\" >Long_</th>        <th class=\"col_heading level0 col4\" >Confirmed</th>        <th class=\"col_heading level0 col5\" >Deaths</th>        <th class=\"col_heading level0 col6\" >Recovered</th>        <th class=\"col_heading level0 col7\" >Active</th>        <th class=\"col_heading level0 col8\" >Incident_Rate</th>        <th class=\"col_heading level0 col9\" >People_Tested</th>        <th class=\"col_heading level0 col10\" >People_Hospitalized</th>        <th class=\"col_heading level0 col11\" >Mortality_Rate</th>        <th class=\"col_heading level0 col12\" >UID</th>        <th class=\"col_heading level0 col13\" >ISO3</th>    </tr></thead><tbody>\n                <tr>\n                        <th id=\"T_7b258028_7f1e_11ea_8eb0_0242ac1c0002level0_row0\" class=\"row_heading level0 row0\" >17</th>\n                        <td id=\"T_7b258028_7f1e_11ea_8eb0_0242ac1c0002row0_col0\" class=\"data row0 col0\" >US</td>\n                        <td id=\"T_7b258028_7f1e_11ea_8eb0_0242ac1c0002row0_col1\" class=\"data row0 col1\" >2020-04-15 12:27:41</td>\n                        <td id=\"T_7b258028_7f1e_11ea_8eb0_0242ac1c0002row0_col2\" class=\"data row0 col2\" >40.000000</td>\n                        <td id=\"T_7b258028_7f1e_11ea_8eb0_0242ac1c0002row0_col3\" class=\"data row0 col3\" >-100.000000</td>\n                        <td id=\"T_7b258028_7f1e_11ea_8eb0_0242ac1c0002row0_col4\" class=\"data row0 col4\" >609685</td>\n                        <td id=\"T_7b258028_7f1e_11ea_8eb0_0242ac1c0002row0_col5\" class=\"data row0 col5\" >26059</td>\n                        <td id=\"T_7b258028_7f1e_11ea_8eb0_0242ac1c0002row0_col6\" class=\"data row0 col6\" >49966</td>\n                        <td id=\"T_7b258028_7f1e_11ea_8eb0_0242ac1c0002row0_col7\" class=\"data row0 col7\" >533660</td>\n                        <td id=\"T_7b258028_7f1e_11ea_8eb0_0242ac1c0002row0_col8\" class=\"data row0 col8\" >185.052320</td>\n                        <td id=\"T_7b258028_7f1e_11ea_8eb0_0242ac1c0002row0_col9\" class=\"data row0 col9\" >nan</td>\n                        <td id=\"T_7b258028_7f1e_11ea_8eb0_0242ac1c0002row0_col10\" class=\"data row0 col10\" >nan</td>\n                        <td id=\"T_7b258028_7f1e_11ea_8eb0_0242ac1c0002row0_col11\" class=\"data row0 col11\" >4.274174</td>\n                        <td id=\"T_7b258028_7f1e_11ea_8eb0_0242ac1c0002row0_col12\" class=\"data row0 col12\" >840</td>\n                        <td id=\"T_7b258028_7f1e_11ea_8eb0_0242ac1c0002row0_col13\" class=\"data row0 col13\" >USA</td>\n            </tr>\n            <tr>\n                        <th id=\"T_7b258028_7f1e_11ea_8eb0_0242ac1c0002level0_row1\" class=\"row_heading level0 row1\" >160</th>\n                        <td id=\"T_7b258028_7f1e_11ea_8eb0_0242ac1c0002row1_col0\" class=\"data row1 col0\" >Spain</td>\n                        <td id=\"T_7b258028_7f1e_11ea_8eb0_0242ac1c0002row1_col1\" class=\"data row1 col1\" >2020-04-15 12:27:22</td>\n                        <td id=\"T_7b258028_7f1e_11ea_8eb0_0242ac1c0002row1_col2\" class=\"data row1 col2\" >40.463667</td>\n                        <td id=\"T_7b258028_7f1e_11ea_8eb0_0242ac1c0002row1_col3\" class=\"data row1 col3\" >-3.749220</td>\n                        <td id=\"T_7b258028_7f1e_11ea_8eb0_0242ac1c0002row1_col4\" class=\"data row1 col4\" >177633</td>\n                        <td id=\"T_7b258028_7f1e_11ea_8eb0_0242ac1c0002row1_col5\" class=\"data row1 col5\" >18579</td>\n                        <td id=\"T_7b258028_7f1e_11ea_8eb0_0242ac1c0002row1_col6\" class=\"data row1 col6\" >70853</td>\n                        <td id=\"T_7b258028_7f1e_11ea_8eb0_0242ac1c0002row1_col7\" class=\"data row1 col7\" >88201</td>\n                        <td id=\"T_7b258028_7f1e_11ea_8eb0_0242ac1c0002row1_col8\" class=\"data row1 col8\" >379.924766</td>\n                        <td id=\"T_7b258028_7f1e_11ea_8eb0_0242ac1c0002row1_col9\" class=\"data row1 col9\" >nan</td>\n                        <td id=\"T_7b258028_7f1e_11ea_8eb0_0242ac1c0002row1_col10\" class=\"data row1 col10\" >nan</td>\n                        <td id=\"T_7b258028_7f1e_11ea_8eb0_0242ac1c0002row1_col11\" class=\"data row1 col11\" >10.459205</td>\n                        <td id=\"T_7b258028_7f1e_11ea_8eb0_0242ac1c0002row1_col12\" class=\"data row1 col12\" >724</td>\n                        <td id=\"T_7b258028_7f1e_11ea_8eb0_0242ac1c0002row1_col13\" class=\"data row1 col13\" >ESP</td>\n            </tr>\n            <tr>\n                        <th id=\"T_7b258028_7f1e_11ea_8eb0_0242ac1c0002level0_row2\" class=\"row_heading level0 row2\" >10</th>\n                        <td id=\"T_7b258028_7f1e_11ea_8eb0_0242ac1c0002row2_col0\" class=\"data row2 col0\" >Italy</td>\n                        <td id=\"T_7b258028_7f1e_11ea_8eb0_0242ac1c0002row2_col1\" class=\"data row2 col1\" >2020-04-15 12:27:22</td>\n                        <td id=\"T_7b258028_7f1e_11ea_8eb0_0242ac1c0002row2_col2\" class=\"data row2 col2\" >41.871900</td>\n                        <td id=\"T_7b258028_7f1e_11ea_8eb0_0242ac1c0002row2_col3\" class=\"data row2 col3\" >12.567400</td>\n                        <td id=\"T_7b258028_7f1e_11ea_8eb0_0242ac1c0002row2_col4\" class=\"data row2 col4\" >162488</td>\n                        <td id=\"T_7b258028_7f1e_11ea_8eb0_0242ac1c0002row2_col5\" class=\"data row2 col5\" >21067</td>\n                        <td id=\"T_7b258028_7f1e_11ea_8eb0_0242ac1c0002row2_col6\" class=\"data row2 col6\" >37130</td>\n                        <td id=\"T_7b258028_7f1e_11ea_8eb0_0242ac1c0002row2_col7\" class=\"data row2 col7\" >104291</td>\n                        <td id=\"T_7b258028_7f1e_11ea_8eb0_0242ac1c0002row2_col8\" class=\"data row2 col8\" >268.744769</td>\n                        <td id=\"T_7b258028_7f1e_11ea_8eb0_0242ac1c0002row2_col9\" class=\"data row2 col9\" >nan</td>\n                        <td id=\"T_7b258028_7f1e_11ea_8eb0_0242ac1c0002row2_col10\" class=\"data row2 col10\" >nan</td>\n                        <td id=\"T_7b258028_7f1e_11ea_8eb0_0242ac1c0002row2_col11\" class=\"data row2 col11\" >12.965265</td>\n                        <td id=\"T_7b258028_7f1e_11ea_8eb0_0242ac1c0002row2_col12\" class=\"data row2 col12\" >380</td>\n                        <td id=\"T_7b258028_7f1e_11ea_8eb0_0242ac1c0002row2_col13\" class=\"data row2 col13\" >ITA</td>\n            </tr>\n            <tr>\n                        <th id=\"T_7b258028_7f1e_11ea_8eb0_0242ac1c0002level0_row3\" class=\"row_heading level0 row3\" >7</th>\n                        <td id=\"T_7b258028_7f1e_11ea_8eb0_0242ac1c0002row3_col0\" class=\"data row3 col0\" >Germany</td>\n                        <td id=\"T_7b258028_7f1e_11ea_8eb0_0242ac1c0002row3_col1\" class=\"data row3 col1\" >2020-04-15 12:27:22</td>\n                        <td id=\"T_7b258028_7f1e_11ea_8eb0_0242ac1c0002row3_col2\" class=\"data row3 col2\" >51.165700</td>\n                        <td id=\"T_7b258028_7f1e_11ea_8eb0_0242ac1c0002row3_col3\" class=\"data row3 col3\" >10.451500</td>\n                        <td id=\"T_7b258028_7f1e_11ea_8eb0_0242ac1c0002row3_col4\" class=\"data row3 col4\" >132210</td>\n                        <td id=\"T_7b258028_7f1e_11ea_8eb0_0242ac1c0002row3_col5\" class=\"data row3 col5\" >3495</td>\n                        <td id=\"T_7b258028_7f1e_11ea_8eb0_0242ac1c0002row3_col6\" class=\"data row3 col6\" >72600</td>\n                        <td id=\"T_7b258028_7f1e_11ea_8eb0_0242ac1c0002row3_col7\" class=\"data row3 col7\" >56115</td>\n                        <td id=\"T_7b258028_7f1e_11ea_8eb0_0242ac1c0002row3_col8\" class=\"data row3 col8\" >157.798729</td>\n                        <td id=\"T_7b258028_7f1e_11ea_8eb0_0242ac1c0002row3_col9\" class=\"data row3 col9\" >nan</td>\n                        <td id=\"T_7b258028_7f1e_11ea_8eb0_0242ac1c0002row3_col10\" class=\"data row3 col10\" >nan</td>\n                        <td id=\"T_7b258028_7f1e_11ea_8eb0_0242ac1c0002row3_col11\" class=\"data row3 col11\" >2.643522</td>\n                        <td id=\"T_7b258028_7f1e_11ea_8eb0_0242ac1c0002row3_col12\" class=\"data row3 col12\" >276</td>\n                        <td id=\"T_7b258028_7f1e_11ea_8eb0_0242ac1c0002row3_col13\" class=\"data row3 col13\" >DEU</td>\n            </tr>\n            <tr>\n                        <th id=\"T_7b258028_7f1e_11ea_8eb0_0242ac1c0002level0_row4\" class=\"row_heading level0 row4\" >6</th>\n                        <td id=\"T_7b258028_7f1e_11ea_8eb0_0242ac1c0002row4_col0\" class=\"data row4 col0\" >France</td>\n                        <td id=\"T_7b258028_7f1e_11ea_8eb0_0242ac1c0002row4_col1\" class=\"data row4 col1\" >2020-04-15 12:27:22</td>\n                        <td id=\"T_7b258028_7f1e_11ea_8eb0_0242ac1c0002row4_col2\" class=\"data row4 col2\" >46.227600</td>\n                        <td id=\"T_7b258028_7f1e_11ea_8eb0_0242ac1c0002row4_col3\" class=\"data row4 col3\" >2.213700</td>\n                        <td id=\"T_7b258028_7f1e_11ea_8eb0_0242ac1c0002row4_col4\" class=\"data row4 col4\" >131362</td>\n                        <td id=\"T_7b258028_7f1e_11ea_8eb0_0242ac1c0002row4_col5\" class=\"data row4 col5\" >15750</td>\n                        <td id=\"T_7b258028_7f1e_11ea_8eb0_0242ac1c0002row4_col6\" class=\"data row4 col6\" >29121</td>\n                        <td id=\"T_7b258028_7f1e_11ea_8eb0_0242ac1c0002row4_col7\" class=\"data row4 col7\" >86491</td>\n                        <td id=\"T_7b258028_7f1e_11ea_8eb0_0242ac1c0002row4_col8\" class=\"data row4 col8\" >201.248555</td>\n                        <td id=\"T_7b258028_7f1e_11ea_8eb0_0242ac1c0002row4_col9\" class=\"data row4 col9\" >nan</td>\n                        <td id=\"T_7b258028_7f1e_11ea_8eb0_0242ac1c0002row4_col10\" class=\"data row4 col10\" >nan</td>\n                        <td id=\"T_7b258028_7f1e_11ea_8eb0_0242ac1c0002row4_col11\" class=\"data row4 col11\" >11.989769</td>\n                        <td id=\"T_7b258028_7f1e_11ea_8eb0_0242ac1c0002row4_col12\" class=\"data row4 col12\" >250</td>\n                        <td id=\"T_7b258028_7f1e_11ea_8eb0_0242ac1c0002row4_col13\" class=\"data row4 col13\" >FRA</td>\n            </tr>\n            <tr>\n                        <th id=\"T_7b258028_7f1e_11ea_8eb0_0242ac1c0002level0_row5\" class=\"row_heading level0 row5\" >16</th>\n                        <td id=\"T_7b258028_7f1e_11ea_8eb0_0242ac1c0002row5_col0\" class=\"data row5 col0\" >United Kingdom</td>\n                        <td id=\"T_7b258028_7f1e_11ea_8eb0_0242ac1c0002row5_col1\" class=\"data row5 col1\" >2020-04-15 12:27:22</td>\n                        <td id=\"T_7b258028_7f1e_11ea_8eb0_0242ac1c0002row5_col2\" class=\"data row5 col2\" >55.000000</td>\n                        <td id=\"T_7b258028_7f1e_11ea_8eb0_0242ac1c0002row5_col3\" class=\"data row5 col3\" >-3.000000</td>\n                        <td id=\"T_7b258028_7f1e_11ea_8eb0_0242ac1c0002row5_col4\" class=\"data row5 col4\" >94847</td>\n                        <td id=\"T_7b258028_7f1e_11ea_8eb0_0242ac1c0002row5_col5\" class=\"data row5 col5\" >12131</td>\n                        <td id=\"T_7b258028_7f1e_11ea_8eb0_0242ac1c0002row5_col6\" class=\"data row5 col6\" >344</td>\n                        <td id=\"T_7b258028_7f1e_11ea_8eb0_0242ac1c0002row5_col7\" class=\"data row5 col7\" >82372</td>\n                        <td id=\"T_7b258028_7f1e_11ea_8eb0_0242ac1c0002row5_col8\" class=\"data row5 col8\" >139.715102</td>\n                        <td id=\"T_7b258028_7f1e_11ea_8eb0_0242ac1c0002row5_col9\" class=\"data row5 col9\" >nan</td>\n                        <td id=\"T_7b258028_7f1e_11ea_8eb0_0242ac1c0002row5_col10\" class=\"data row5 col10\" >nan</td>\n                        <td id=\"T_7b258028_7f1e_11ea_8eb0_0242ac1c0002row5_col11\" class=\"data row5 col11\" >12.790072</td>\n                        <td id=\"T_7b258028_7f1e_11ea_8eb0_0242ac1c0002row5_col12\" class=\"data row5 col12\" >826</td>\n                        <td id=\"T_7b258028_7f1e_11ea_8eb0_0242ac1c0002row5_col13\" class=\"data row5 col13\" >GBR</td>\n            </tr>\n            <tr>\n                        <th id=\"T_7b258028_7f1e_11ea_8eb0_0242ac1c0002level0_row6\" class=\"row_heading level0 row6\" >3</th>\n                        <td id=\"T_7b258028_7f1e_11ea_8eb0_0242ac1c0002row6_col0\" class=\"data row6 col0\" >China</td>\n                        <td id=\"T_7b258028_7f1e_11ea_8eb0_0242ac1c0002row6_col1\" class=\"data row6 col1\" >2020-04-15 10:36:21</td>\n                        <td id=\"T_7b258028_7f1e_11ea_8eb0_0242ac1c0002row6_col2\" class=\"data row6 col2\" >30.592800</td>\n                        <td id=\"T_7b258028_7f1e_11ea_8eb0_0242ac1c0002row6_col3\" class=\"data row6 col3\" >114.305500</td>\n                        <td id=\"T_7b258028_7f1e_11ea_8eb0_0242ac1c0002row6_col4\" class=\"data row6 col4\" >83355</td>\n                        <td id=\"T_7b258028_7f1e_11ea_8eb0_0242ac1c0002row6_col5\" class=\"data row6 col5\" >3346</td>\n                        <td id=\"T_7b258028_7f1e_11ea_8eb0_0242ac1c0002row6_col6\" class=\"data row6 col6\" >78307</td>\n                        <td id=\"T_7b258028_7f1e_11ea_8eb0_0242ac1c0002row6_col7\" class=\"data row6 col7\" >1702</td>\n                        <td id=\"T_7b258028_7f1e_11ea_8eb0_0242ac1c0002row6_col8\" class=\"data row6 col8\" >5.934107</td>\n                        <td id=\"T_7b258028_7f1e_11ea_8eb0_0242ac1c0002row6_col9\" class=\"data row6 col9\" >nan</td>\n                        <td id=\"T_7b258028_7f1e_11ea_8eb0_0242ac1c0002row6_col10\" class=\"data row6 col10\" >nan</td>\n                        <td id=\"T_7b258028_7f1e_11ea_8eb0_0242ac1c0002row6_col11\" class=\"data row6 col11\" >4.014156</td>\n                        <td id=\"T_7b258028_7f1e_11ea_8eb0_0242ac1c0002row6_col12\" class=\"data row6 col12\" >156</td>\n                        <td id=\"T_7b258028_7f1e_11ea_8eb0_0242ac1c0002row6_col13\" class=\"data row6 col13\" >CHN</td>\n            </tr>\n            <tr>\n                        <th id=\"T_7b258028_7f1e_11ea_8eb0_0242ac1c0002level0_row7\" class=\"row_heading level0 row7\" >89</th>\n                        <td id=\"T_7b258028_7f1e_11ea_8eb0_0242ac1c0002row7_col0\" class=\"data row7 col0\" >Iran</td>\n                        <td id=\"T_7b258028_7f1e_11ea_8eb0_0242ac1c0002row7_col1\" class=\"data row7 col1\" >2020-04-15 12:27:22</td>\n                        <td id=\"T_7b258028_7f1e_11ea_8eb0_0242ac1c0002row7_col2\" class=\"data row7 col2\" >32.427908</td>\n                        <td id=\"T_7b258028_7f1e_11ea_8eb0_0242ac1c0002row7_col3\" class=\"data row7 col3\" >53.688046</td>\n                        <td id=\"T_7b258028_7f1e_11ea_8eb0_0242ac1c0002row7_col4\" class=\"data row7 col4\" >76389</td>\n                        <td id=\"T_7b258028_7f1e_11ea_8eb0_0242ac1c0002row7_col5\" class=\"data row7 col5\" >4777</td>\n                        <td id=\"T_7b258028_7f1e_11ea_8eb0_0242ac1c0002row7_col6\" class=\"data row7 col6\" >49933</td>\n                        <td id=\"T_7b258028_7f1e_11ea_8eb0_0242ac1c0002row7_col7\" class=\"data row7 col7\" >21679</td>\n                        <td id=\"T_7b258028_7f1e_11ea_8eb0_0242ac1c0002row7_col8\" class=\"data row7 col8\" >90.946916</td>\n                        <td id=\"T_7b258028_7f1e_11ea_8eb0_0242ac1c0002row7_col9\" class=\"data row7 col9\" >nan</td>\n                        <td id=\"T_7b258028_7f1e_11ea_8eb0_0242ac1c0002row7_col10\" class=\"data row7 col10\" >nan</td>\n                        <td id=\"T_7b258028_7f1e_11ea_8eb0_0242ac1c0002row7_col11\" class=\"data row7 col11\" >6.253518</td>\n                        <td id=\"T_7b258028_7f1e_11ea_8eb0_0242ac1c0002row7_col12\" class=\"data row7 col12\" >364</td>\n                        <td id=\"T_7b258028_7f1e_11ea_8eb0_0242ac1c0002row7_col13\" class=\"data row7 col13\" >IRN</td>\n            </tr>\n            <tr>\n                        <th id=\"T_7b258028_7f1e_11ea_8eb0_0242ac1c0002level0_row8\" class=\"row_heading level0 row8\" >172</th>\n                        <td id=\"T_7b258028_7f1e_11ea_8eb0_0242ac1c0002row8_col0\" class=\"data row8 col0\" >Turkey</td>\n                        <td id=\"T_7b258028_7f1e_11ea_8eb0_0242ac1c0002row8_col1\" class=\"data row8 col1\" >2020-04-15 12:27:22</td>\n                        <td id=\"T_7b258028_7f1e_11ea_8eb0_0242ac1c0002row8_col2\" class=\"data row8 col2\" >38.963700</td>\n                        <td id=\"T_7b258028_7f1e_11ea_8eb0_0242ac1c0002row8_col3\" class=\"data row8 col3\" >35.243300</td>\n                        <td id=\"T_7b258028_7f1e_11ea_8eb0_0242ac1c0002row8_col4\" class=\"data row8 col4\" >65111</td>\n                        <td id=\"T_7b258028_7f1e_11ea_8eb0_0242ac1c0002row8_col5\" class=\"data row8 col5\" >1403</td>\n                        <td id=\"T_7b258028_7f1e_11ea_8eb0_0242ac1c0002row8_col6\" class=\"data row8 col6\" >4799</td>\n                        <td id=\"T_7b258028_7f1e_11ea_8eb0_0242ac1c0002row8_col7\" class=\"data row8 col7\" >58909</td>\n                        <td id=\"T_7b258028_7f1e_11ea_8eb0_0242ac1c0002row8_col8\" class=\"data row8 col8\" >77.201471</td>\n                        <td id=\"T_7b258028_7f1e_11ea_8eb0_0242ac1c0002row8_col9\" class=\"data row8 col9\" >nan</td>\n                        <td id=\"T_7b258028_7f1e_11ea_8eb0_0242ac1c0002row8_col10\" class=\"data row8 col10\" >nan</td>\n                        <td id=\"T_7b258028_7f1e_11ea_8eb0_0242ac1c0002row8_col11\" class=\"data row8 col11\" >2.154782</td>\n                        <td id=\"T_7b258028_7f1e_11ea_8eb0_0242ac1c0002row8_col12\" class=\"data row8 col12\" >792</td>\n                        <td id=\"T_7b258028_7f1e_11ea_8eb0_0242ac1c0002row8_col13\" class=\"data row8 col13\" >TUR</td>\n            </tr>\n            <tr>\n                        <th id=\"T_7b258028_7f1e_11ea_8eb0_0242ac1c0002level0_row9\" class=\"row_heading level0 row9\" >32</th>\n                        <td id=\"T_7b258028_7f1e_11ea_8eb0_0242ac1c0002row9_col0\" class=\"data row9 col0\" >Belgium</td>\n                        <td id=\"T_7b258028_7f1e_11ea_8eb0_0242ac1c0002row9_col1\" class=\"data row9 col1\" >2020-04-15 12:27:22</td>\n                        <td id=\"T_7b258028_7f1e_11ea_8eb0_0242ac1c0002row9_col2\" class=\"data row9 col2\" >50.833300</td>\n                        <td id=\"T_7b258028_7f1e_11ea_8eb0_0242ac1c0002row9_col3\" class=\"data row9 col3\" >4.469936</td>\n                        <td id=\"T_7b258028_7f1e_11ea_8eb0_0242ac1c0002row9_col4\" class=\"data row9 col4\" >33573</td>\n                        <td id=\"T_7b258028_7f1e_11ea_8eb0_0242ac1c0002row9_col5\" class=\"data row9 col5\" >4440</td>\n                        <td id=\"T_7b258028_7f1e_11ea_8eb0_0242ac1c0002row9_col6\" class=\"data row9 col6\" >7107</td>\n                        <td id=\"T_7b258028_7f1e_11ea_8eb0_0242ac1c0002row9_col7\" class=\"data row9 col7\" >22026</td>\n                        <td id=\"T_7b258028_7f1e_11ea_8eb0_0242ac1c0002row9_col8\" class=\"data row9 col8\" >289.681729</td>\n                        <td id=\"T_7b258028_7f1e_11ea_8eb0_0242ac1c0002row9_col9\" class=\"data row9 col9\" >nan</td>\n                        <td id=\"T_7b258028_7f1e_11ea_8eb0_0242ac1c0002row9_col10\" class=\"data row9 col10\" >nan</td>\n                        <td id=\"T_7b258028_7f1e_11ea_8eb0_0242ac1c0002row9_col11\" class=\"data row9 col11\" >13.224913</td>\n                        <td id=\"T_7b258028_7f1e_11ea_8eb0_0242ac1c0002row9_col12\" class=\"data row9 col12\" >56</td>\n                        <td id=\"T_7b258028_7f1e_11ea_8eb0_0242ac1c0002row9_col13\" class=\"data row9 col13\" >BEL</td>\n            </tr>\n    </tbody></table>",
        "text/plain": "<pandas.io.formats.style.Styler at 0x7f02b0ec9d30>"
       }
      ]
     }
    },
    "bfcc849d615049b2b07c216621e37d04": {
     "model_module": "@jupyter-widgets/controls",
     "model_name": "VBoxModel",
     "state": {
      "_dom_classes": [
       "widget-interact"
      ],
      "_model_module": "@jupyter-widgets/controls",
      "_model_module_version": "1.5.0",
      "_model_name": "VBoxModel",
      "_view_count": null,
      "_view_module": "@jupyter-widgets/controls",
      "_view_module_version": "1.5.0",
      "_view_name": "VBoxView",
      "box_style": "",
      "children": [
       "IPY_MODEL_c987c7558e5c4a70837381de39a3dc99",
       "IPY_MODEL_a37a48900f7447f7ba0ae20ec4d8657f"
      ],
      "layout": "IPY_MODEL_c6cfc4990301440abf3ad5da41265bf2"
     }
    },
    "c17cb374aadd4eae88159727337d94ea": {
     "model_module": "@jupyter-widgets/controls",
     "model_name": "VBoxModel",
     "state": {
      "_dom_classes": [],
      "_model_module": "@jupyter-widgets/controls",
      "_model_module_version": "1.5.0",
      "_model_name": "VBoxModel",
      "_view_count": null,
      "_view_module": "@jupyter-widgets/controls",
      "_view_module_version": "1.5.0",
      "_view_name": "VBoxView",
      "box_style": "",
      "children": [
       "IPY_MODEL_56fccb2f2f8a4303bc72af5100a295fa"
      ],
      "layout": "IPY_MODEL_c8eaab8ee02749a29a2b26eb151e29d9"
     }
    },
    "c6cfc4990301440abf3ad5da41265bf2": {
     "model_module": "@jupyter-widgets/base",
     "model_name": "LayoutModel",
     "state": {
      "_model_module": "@jupyter-widgets/base",
      "_model_module_version": "1.2.0",
      "_model_name": "LayoutModel",
      "_view_count": null,
      "_view_module": "@jupyter-widgets/base",
      "_view_module_version": "1.2.0",
      "_view_name": "LayoutView",
      "align_content": null,
      "align_items": null,
      "align_self": null,
      "border": null,
      "bottom": null,
      "display": null,
      "flex": null,
      "flex_flow": null,
      "grid_area": null,
      "grid_auto_columns": null,
      "grid_auto_flow": null,
      "grid_auto_rows": null,
      "grid_column": null,
      "grid_gap": null,
      "grid_row": null,
      "grid_template_areas": null,
      "grid_template_columns": null,
      "grid_template_rows": null,
      "height": null,
      "justify_content": null,
      "justify_items": null,
      "left": null,
      "margin": null,
      "max_height": null,
      "max_width": null,
      "min_height": null,
      "min_width": null,
      "object_fit": null,
      "object_position": null,
      "order": null,
      "overflow": null,
      "overflow_x": null,
      "overflow_y": null,
      "padding": null,
      "right": null,
      "top": null,
      "visibility": null,
      "width": null
     }
    },
    "c8eaab8ee02749a29a2b26eb151e29d9": {
     "model_module": "@jupyter-widgets/base",
     "model_name": "LayoutModel",
     "state": {
      "_model_module": "@jupyter-widgets/base",
      "_model_module_version": "1.2.0",
      "_model_name": "LayoutModel",
      "_view_count": null,
      "_view_module": "@jupyter-widgets/base",
      "_view_module_version": "1.2.0",
      "_view_name": "LayoutView",
      "align_content": null,
      "align_items": null,
      "align_self": null,
      "border": "solid 2px green",
      "bottom": null,
      "display": "none",
      "flex": null,
      "flex_flow": null,
      "grid_area": null,
      "grid_auto_columns": null,
      "grid_auto_flow": null,
      "grid_auto_rows": null,
      "grid_column": null,
      "grid_gap": null,
      "grid_row": null,
      "grid_template_areas": null,
      "grid_template_columns": null,
      "grid_template_rows": null,
      "height": null,
      "justify_content": null,
      "justify_items": null,
      "left": null,
      "margin": null,
      "max_height": null,
      "max_width": null,
      "min_height": null,
      "min_width": null,
      "object_fit": null,
      "object_position": null,
      "order": null,
      "overflow": null,
      "overflow_x": null,
      "overflow_y": null,
      "padding": null,
      "right": null,
      "top": null,
      "visibility": null,
      "width": null
     }
    },
    "c987c7558e5c4a70837381de39a3dc99": {
     "model_module": "@jupyter-widgets/controls",
     "model_name": "TextModel",
     "state": {
      "_dom_classes": [],
      "_model_module": "@jupyter-widgets/controls",
      "_model_module_version": "1.5.0",
      "_model_name": "TextModel",
      "_view_count": null,
      "_view_module": "@jupyter-widgets/controls",
      "_view_module_version": "1.5.0",
      "_view_name": "TextView",
      "continuous_update": true,
      "description": "n",
      "description_tooltip": null,
      "disabled": false,
      "layout": "IPY_MODEL_90965014d19c4a68927b6de6b565fb22",
      "placeholder": "​",
      "style": "IPY_MODEL_2d0f9b2e7ea842b7bad18f1809e5a1c4",
      "value": "10"
     }
    }
   }
  }
 },
 "nbformat": 4,
 "nbformat_minor": 1
}
